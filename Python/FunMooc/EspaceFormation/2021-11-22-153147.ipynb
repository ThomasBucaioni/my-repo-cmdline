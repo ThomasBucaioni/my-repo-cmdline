{
 "cells": [
  {
   "cell_type": "code",
   "execution_count": 47,
   "metadata": {
    "collapsed": false
   },
   "outputs": [
   ],
   "source": [
    "class NbAppel:\n",
    "    def __init__(self, f):\n",
    "        self.appel = 0\n",
    "        self.f = f\n",
    "\n",
    "    def __call__(self, *args, **dargs):\n",
    "        # 1. compte le nombre d'appels\n",
    "        self.appel = self.appel + 1\n",
    "        # 2. affiche le nombre d'appels\n",
    "        print(f\"{self.f.__name__}: {self.appel} appels\")\n",
    "        # 3. execute f et retourne sa valeur\n",
    "        out = self.f(*args, **dargs)\n",
    "        print('sortie de call: ', out)\n",
    "        return out\n",
    "\n",
    "\n",
    "@NbAppel\n",
    "def f(a, b):\n",
    "    print('arguments: ', a, b)\n",
    "    \n",
    "\n",
    "@NbAppel\n",
    "def g(a):\n",
    "    print('argument: ', a)\n",
    "# f = NbAppel(f)"
   ]
  },
  {
   "cell_type": "code",
   "execution_count": 48,
   "metadata": {
    "collapsed": false
   },
   "outputs": [
    {
     "data": {
      "text/plain": [
       "(0, <function __main__.f(a, b)>, __main__.NbAppel, 0)"
      ]
     },
     "execution_count": 48,
     "metadata": {
     },
     "output_type": "execute_result"
    }
   ],
   "source": [
    "f.appel, f.f, type(f), f.appel"
   ]
  },
  {
   "cell_type": "code",
   "execution_count": 49,
   "metadata": {
    "collapsed": false
   },
   "outputs": [
    {
     "name": "stdout",
     "output_type": "stream",
     "text": [
      "f: 1 appels\n",
      "arguments:  1 2\n",
      "sortie de call:  None\n"
     ]
    }
   ],
   "source": [
    "f(1,2)"
   ]
  },
  {
   "cell_type": "code",
   "execution_count": 50,
   "metadata": {
    "collapsed": false
   },
   "outputs": [
    {
     "name": "stdout",
     "output_type": "stream",
     "text": [
      "g: 1 appels\n",
      "argument:  1\n",
      "sortie de call:  None\n"
     ]
    }
   ],
   "source": [
    "g(1)"
   ]
  },
  {
   "cell_type": "code",
   "execution_count": 51,
   "metadata": {
    "collapsed": false
   },
   "outputs": [
    {
     "name": "stdout",
     "output_type": "stream",
     "text": [
      "f: 2 appels\n",
      "arguments:  2 1\n",
      "sortie de call:  None\n"
     ]
    }
   ],
   "source": [
    "f(b = 1, a = 2)"
   ]
  },
  {
   "cell_type": "code",
   "execution_count": 53,
   "metadata": {
    "collapsed": false
   },
   "outputs": [
    {
     "name": "stdout",
     "output_type": "stream",
     "text": [
      "Temps d'execution (ms): 0.01295609981752932\n"
     ]
    }
   ],
   "source": [
    "import time\n",
    "t = time.perf_counter()\n",
    "l = [x**2 for x in range(100)]\n",
    "print(f\"Temps d'execution (ms): {100*(time.perf_counter()-t)}\")"
   ]
  },
  {
   "cell_type": "code",
   "execution_count": 91,
   "metadata": {
    "collapsed": false
   },
   "outputs": [
    {
     "name": "stdout",
     "output_type": "stream",
     "text": [
      "Temps d'execution (ms): 69.64305500150658\n"
     ]
    },
    {
     "data": {
      "text/plain": [
       "True"
      ]
     },
     "execution_count": 91,
     "metadata": {
     },
     "output_type": "execute_result"
    }
   ],
   "source": [
    "class Timer:\n",
    "    \n",
    "    \n",
    "    def __init__(self, f):\n",
    "        self.f = f\n",
    "        \n",
    "        \n",
    "    def __call__(self, *args):\n",
    "        t = time.perf_counter()\n",
    "        res = self.f(*args)\n",
    "        print(f\"Temps d'execution (ms): {1000*(time.perf_counter()-t)}\")\n",
    "        return res\n",
    "        \n",
    "\n",
    "@Timer        \n",
    "def f(l):\n",
    "    return sum(x**2 for x in l)\n",
    "\n",
    "\n",
    "n = 100000\n",
    "f(range(n+1)) == n*(n+1)*(2*n+1)/6"
   ]
  },
  {
   "cell_type": "code",
   "execution_count": 92,
   "metadata": {
    "collapsed": false
   },
   "outputs": [
    {
     "data": {
      "text/plain": [
       "'1.00e+05............               100000 *******100000*******'"
      ]
     },
     "execution_count": 92,
     "metadata": {
     },
     "output_type": "execute_result"
    }
   ],
   "source": [
    "f\"{n:.<20.2e} {n:>20} {n:*^20}\""
   ]
  },
  {
   "cell_type": "code",
   "execution_count": 93,
   "metadata": {
    "collapsed": false
   },
   "outputs": [
    {
     "data": {
      "text/plain": [
       "110"
      ]
     },
     "execution_count": 93,
     "metadata": {
     },
     "output_type": "execute_result"
    }
   ],
   "source": [
    "def adder(y):\n",
    "    def add(x):\n",
    "        return x + y\n",
    "    return add\n",
    "\n",
    "a = adder(100)\n",
    "a(10)"
   ]
  },
  {
   "cell_type": "code",
   "execution_count": 94,
   "metadata": {
    "collapsed": false
   },
   "outputs": [
    {
     "data": {
      "text/plain": [
       "100"
      ]
     },
     "execution_count": 94,
     "metadata": {
     },
     "output_type": "execute_result"
    }
   ],
   "source": [
    "a.__closure__[0].cell_contents"
   ]
  },
  {
   "cell_type": "code",
   "execution_count": 95,
   "metadata": {
    "collapsed": false
   },
   "outputs": [
    {
     "data": {
      "text/plain": [
       "1"
      ]
     },
     "execution_count": 95,
     "metadata": {
     },
     "output_type": "execute_result"
    }
   ],
   "source": [
    "b = adder(1)\n",
    "b.__closure__[0].cell_contents"
   ]
  },
  {
   "cell_type": "code",
   "execution_count": 96,
   "metadata": {
    "collapsed": false
   },
   "outputs": [
    {
     "name": "stdout",
     "output_type": "stream",
     "text": [
      "Temps d'execution (ms): 25.589595999917947\n"
     ]
    },
    {
     "data": {
      "text/plain": [
       "True"
      ]
     },
     "execution_count": 96,
     "metadata": {
     },
     "output_type": "execute_result"
    }
   ],
   "source": [
    "def timer(f):\n",
    "    def wrapper(x):\n",
    "        t = time.perf_counter()\n",
    "        res = f(x)\n",
    "        print(f\"Temps d'execution (ms): {1000*(time.perf_counter()-t)}\")\n",
    "        return res\n",
    "    return wrapper\n",
    "\n",
    "@timer        \n",
    "def f(l):\n",
    "    return sum(x**2 for x in l)\n",
    "\n",
    "f(range(n+1)) == n*(n+1)*(2*n+1)/6"
   ]
  },
  {
   "cell_type": "code",
   "execution_count": 89,
   "metadata": {
    "collapsed": false
   },
   "outputs": [
    {
     "data": {
      "text/plain": [
       "<function __main__.f(l)>"
      ]
     },
     "execution_count": 89,
     "metadata": {
     },
     "output_type": "execute_result"
    }
   ],
   "source": [
    "f.__closure__[0].cell_contents"
   ]
  },
  {
   "cell_type": "code",
   "execution_count": 111,
   "metadata": {
    "collapsed": false
   },
   "outputs": [
    {
     "name": "stdout",
     "output_type": "stream",
     "text": [
      "Temps d'execution (ms): 22.940259997994872\n",
      "activated:  True\n",
      "-----\n",
      "deactivated:  True\n",
      "-----\n",
      "Temps d'execution (ms): 30.02924500106019\n",
      "activated:  True\n"
     ]
    }
   ],
   "source": [
    "def deactivated_decorator(f):\n",
    "    \"\"\"\n",
    "    Decorator deactivable with execution time computation\n",
    "    \"\"\"\n",
    "    def wrapper(*args, **dargs):\n",
    "        #print(dargs)\n",
    "        \n",
    "        activated = dargs.get('activated')\n",
    "        if 'activated' in dargs:\n",
    "            del dargs['activated']\n",
    "            \n",
    "        if activated == True:\n",
    "            t = time.perf_counter()\n",
    "            res = f(*args)\n",
    "            print(f\"Temps d'execution (ms): {1000*(time.perf_counter()-t)}\")\n",
    "            return res\n",
    "        else:\n",
    "            return f(*args, **dargs)\n",
    "        \n",
    "    return wrapper\n",
    "\n",
    "@deactivated_decorator        \n",
    "def f(l):\n",
    "    return sum(x**2 for x in l)\n",
    "\n",
    "print('activated: ', f(range(n+1),activated = True) == n*(n+1)*(2*n+1)/6)\n",
    "print('-----')\n",
    "print('deactivated: ', f(range(n+1),activated = False) == n*(n+1)*(2*n+1)/6)\n",
    "print('-----')\n",
    "print('activated: ', f(range(n+1),activated = True) == n*(n+1)*(2*n+1)/6)"
   ]
  },
  {
   "cell_type": "code",
   "execution_count": 0,
   "metadata": {
    "collapsed": false
   },
   "outputs": [
   ],
   "source": [
   ]
  }
 ],
 "metadata": {
  "kernelspec": {
   "display_name": "Python 3 (system-wide)",
   "language": "python",
   "metadata": {
    "cocalc": {
     "description": "Python 3 programming language",
     "priority": 100,
     "url": "https://www.python.org/"
    }
   },
   "name": "python3",
   "resource_dir": "/ext/jupyter/kernels/python3"
  },
  "language_info": {
   "codemirror_mode": {
    "name": "ipython",
    "version": 3
   },
   "file_extension": ".py",
   "mimetype": "text/x-python",
   "name": "python",
   "nbconvert_exporter": "python",
   "pygments_lexer": "ipython3",
   "version": "3.8.10"
  }
 },
 "nbformat": 4,
 "nbformat_minor": 4
}