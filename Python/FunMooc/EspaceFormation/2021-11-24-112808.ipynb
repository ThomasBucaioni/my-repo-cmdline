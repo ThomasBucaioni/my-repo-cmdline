{
 "cells": [
  {
   "cell_type": "markdown",
   "metadata": {
    "collapsed": false
   },
   "source": [
    "# Méthodes __*attr__"
   ]
  },
  {
   "cell_type": "code",
   "execution_count": 3,
   "metadata": {
    "collapsed": false
   },
   "outputs": [
   ],
   "source": [
    "class Traced:\n",
    "    def __getattr__(self, name):\n",
    "        print(f'getattr called: Get: {name}')"
   ]
  },
  {
   "cell_type": "code",
   "execution_count": 4,
   "metadata": {
    "collapsed": false
   },
   "outputs": [
    {
     "name": "stdout",
     "output_type": "stream",
     "text": [
      "getattr called: Get: x\n"
     ]
    }
   ],
   "source": [
    "t = Traced()\n",
    "t.x"
   ]
  },
  {
   "cell_type": "code",
   "execution_count": 5,
   "metadata": {
    "collapsed": false
   },
   "outputs": [
    {
     "data": {
      "text/plain": [
       "10"
      ]
     },
     "execution_count": 5,
     "metadata": {
     },
     "output_type": "execute_result"
    }
   ],
   "source": [
    "t.y = 10\n",
    "t.y"
   ]
  },
  {
   "cell_type": "code",
   "execution_count": 9,
   "metadata": {
    "collapsed": false
   },
   "outputs": [
    {
     "data": {
      "text/plain": [
       "(False, False, False)"
      ]
     },
     "execution_count": 9,
     "metadata": {
     },
     "output_type": "execute_result"
    }
   ],
   "source": [
    "class House:\n",
    "\n",
    "    def __init__(self, members):\n",
    "        self.members = members\n",
    "\n",
    "\n",
    "    def __getattr__(self, attr):\n",
    "        return getattr(self, attr.lower().replace('_',''))\n",
    "\n",
    "\n",
    "    def isempty(self):\n",
    "        return len(self.members) == 0\n",
    "\n",
    "\n",
    "h = House(['alice', 'bob', 'eve'])\n",
    "h.isempty(), h.is_empty(), h.isEmpty()"
   ]
  },
  {
   "cell_type": "code",
   "execution_count": 11,
   "metadata": {
    "collapsed": false
   },
   "outputs": [
    {
     "name": "stdout",
     "output_type": "stream",
     "text": [
      "getattribute called: Get: x\n"
     ]
    }
   ],
   "source": [
    "class Traced:\n",
    "    def __getattribute__(self, name):\n",
    "        print(f'getattribute called: Get: {name}')\n",
    "\n",
    "\n",
    "t = Traced()\n",
    "t.x"
   ]
  },
  {
   "cell_type": "code",
   "execution_count": 12,
   "metadata": {
    "collapsed": false
   },
   "outputs": [
    {
     "name": "stdout",
     "output_type": "stream",
     "text": [
      "getattribute called: Get: y\n"
     ]
    }
   ],
   "source": [
    "t.y = 10\n",
    "t.y"
   ]
  },
  {
   "cell_type": "code",
   "execution_count": 14,
   "metadata": {
    "collapsed": false
   },
   "outputs": [
   ],
   "source": [
    "class Traced:\n",
    "    def __getattribute__(self, name):\n",
    "        print(f'getattribute called: Get: {name}')\n",
    "        return getattr(self,name) #appel récursif de\n",
    "\n",
    "\n",
    "t = Traced()\n",
    "## t.x # NON : appel récursif"
   ]
  },
  {
   "cell_type": "code",
   "execution_count": 1,
   "metadata": {
    "collapsed": false
   },
   "outputs": [
   ],
   "source": [
    "class Traced:\n",
    "    def __getattribute__(self, name):\n",
    "        print(f'getattribute called: Get: {name}')\n",
    "        print(f'{object}\\n{object.__getattribute__}')\n",
    "        return object.__getattribute__(self, name)\n",
    "    def __len__(self):\n",
    "        return 1\n",
    "    def __str__(self):\n",
    "        return 'objet'\n",
    "\n",
    "t = Traced()\n",
    "t.x = 0"
   ]
  },
  {
   "cell_type": "code",
   "execution_count": 2,
   "metadata": {
    "collapsed": false
   },
   "outputs": [
    {
     "name": "stdout",
     "output_type": "stream",
     "text": [
      "getattribute called: Get: x\n",
      "<class 'object'>\n",
      "<function object.__getattribute__ at 0x00007f20b30d6a20>\n"
     ]
    },
    {
     "data": {
      "text/plain": [
       "0"
      ]
     },
     "execution_count": 2,
     "metadata": {
     },
     "output_type": "execute_result"
    }
   ],
   "source": [
    "t.x"
   ]
  },
  {
   "cell_type": "code",
   "execution_count": 32,
   "metadata": {
    "collapsed": false
   },
   "outputs": [
    {
     "data": {
      "text/plain": [
       "1"
      ]
     },
     "execution_count": 32,
     "metadata": {
     },
     "output_type": "execute_result"
    }
   ],
   "source": [
    "len(t)"
   ]
  },
  {
   "cell_type": "code",
   "execution_count": 33,
   "metadata": {
    "collapsed": false
   },
   "outputs": [
    {
     "name": "stdout",
     "output_type": "stream",
     "text": [
      "objet\n"
     ]
    }
   ],
   "source": [
    "print(t)"
   ]
  },
  {
   "cell_type": "code",
   "execution_count": 37,
   "metadata": {
    "collapsed": false
   },
   "outputs": [
    {
     "name": "stdout",
     "output_type": "stream",
     "text": [
      "appel explicit de len :\n",
      "__getattribute__ de la class C appelé\n",
      "appel implicit de len :\n"
     ]
    },
    {
     "data": {
      "text/plain": [
       "10"
      ]
     },
     "execution_count": 37,
     "metadata": {
     },
     "output_type": "execute_result"
    }
   ],
   "source": [
    "class C:\n",
    "    def __len__(self):\n",
    "        return 10\n",
    "    def __getattribute__(*args):\n",
    "        print(\"__getattribute__ de la class C appelé\")\n",
    "        return object.__getattribute__(*args)\n",
    "\n",
    "c = C()\n",
    "print(\"appel explicit de len :\")\n",
    "c.__len__() # appel explicit\n",
    "print(\"appel implicit de len :\")\n",
    "len(c)"
   ]
  },
  {
   "cell_type": "code",
   "execution_count": 38,
   "metadata": {
    "collapsed": false
   },
   "outputs": [
    {
     "data": {
      "text/plain": [
       "(1, 1)"
      ]
     },
     "execution_count": 38,
     "metadata": {
     },
     "output_type": "execute_result"
    }
   ],
   "source": [
    "class EasyDict(dict):\n",
    "    def __getattribute__(self, attr):\n",
    "        if (not attr.endswith('__')) and (attr in self):\n",
    "            return self[attr]\n",
    "        else:\n",
    "            return object.__getattribute__(self, attr)\n",
    "\n",
    "\n",
    "d = EasyDict({'a': 1, 'b': 2})\n",
    "d['a'], d.a"
   ]
  },
  {
   "cell_type": "code",
   "execution_count": 39,
   "metadata": {
    "collapsed": false
   },
   "outputs": [
    {
     "data": {
      "text/plain": [
       "dict_keys(['a', 'b'])"
      ]
     },
     "execution_count": 39,
     "metadata": {
     },
     "output_type": "execute_result"
    }
   ],
   "source": [
    "d.keys()"
   ]
  },
  {
   "cell_type": "code",
   "execution_count": 40,
   "metadata": {
    "collapsed": false
   },
   "outputs": [
    {
     "ename": "TypeError",
     "evalue": "'int' object is not callable",
     "output_type": "error",
     "traceback": [
      "\u001b[0;31m---------------------------------------------------------------------------\u001b[0m",
      "\u001b[0;31mTypeError\u001b[0m                                 Traceback (most recent call last)",
      "\u001b[0;32m/tmp/ipykernel_3600/4258550056.py\u001b[0m in \u001b[0;36m<module>\u001b[0;34m\u001b[0m\n\u001b[1;32m      1\u001b[0m \u001b[0md\u001b[0m\u001b[0;34m[\u001b[0m\u001b[0;34m'keys'\u001b[0m\u001b[0;34m]\u001b[0m \u001b[0;34m=\u001b[0m \u001b[0;36m20\u001b[0m\u001b[0;34m\u001b[0m\u001b[0;34m\u001b[0m\u001b[0m\n\u001b[0;32m----> 2\u001b[0;31m \u001b[0md\u001b[0m\u001b[0;34m.\u001b[0m\u001b[0mkeys\u001b[0m\u001b[0;34m(\u001b[0m\u001b[0;34m)\u001b[0m\u001b[0;34m\u001b[0m\u001b[0;34m\u001b[0m\u001b[0m\n\u001b[0m",
      "\u001b[0;31mTypeError\u001b[0m: 'int' object is not callable"
     ]
    }
   ],
   "source": [
    "d['keys'] = 20\n",
    "d.keys()"
   ]
  },
  {
   "cell_type": "code",
   "execution_count": 42,
   "metadata": {
    "collapsed": false
   },
   "outputs": [
    {
     "name": "stdout",
     "output_type": "stream",
     "text": [
      "setattr called Set: x 10\n"
     ]
    },
    {
     "data": {
      "text/plain": [
       "10"
      ]
     },
     "execution_count": 42,
     "metadata": {
     },
     "output_type": "execute_result"
    }
   ],
   "source": [
    "class Traced:\n",
    "    def __setattr__(self, name, value):\n",
    "        print(f'setattr called Set: {name} {value}')\n",
    "        object.__setattr__(self, name, value)\n",
    "t = Traced()\n",
    "t.x = 10\n",
    "t.x"
   ]
  },
  {
   "cell_type": "code",
   "execution_count": 43,
   "metadata": {
    "collapsed": false
   },
   "outputs": [
    {
     "name": "stdout",
     "output_type": "stream",
     "text": [
      "the attribute spam has been set to 1\n",
      "the attribute beans has been set to 2\n"
     ]
    },
    {
     "data": {
      "text/plain": [
       "(type, __main__.MyClass)"
      ]
     },
     "execution_count": 43,
     "metadata": {
     },
     "output_type": "execute_result"
    }
   ],
   "source": [
    "def watch_variables(var_list):\n",
    "    \"\"\"Usage: @watch_variables(['var1', 'var2'])\"\"\"\n",
    "    def _decorator(cls):\n",
    "        def _setattr(self, name, value):\n",
    "            if name in var_list:\n",
    "                print(f'the attribute {name} has been set to {value}')\n",
    "            return object.__setattr__(self, name, value)\n",
    "        # we change the __setattr__ method of the decorated class\n",
    "        cls.__setattr__ = _setattr\n",
    "        return cls\n",
    "    return _decorator\n",
    "\n",
    "@watch_variables(['spam', 'beans'])\n",
    "class MyClass(object):\n",
    "    def __init__(self, spam, beans):\n",
    "        self.spam = spam\n",
    "        self.beans = beans\n",
    "        self.chicken = 12\n",
    "b = MyClass(1, 2)\n",
    "type(MyClass), type(b)"
   ]
  },
  {
   "cell_type": "code",
   "execution_count": 9,
   "metadata": {
    "collapsed": false
   },
   "outputs": [
    {
     "data": {
      "text/plain": [
       "False"
      ]
     },
     "execution_count": 9,
     "metadata": {
     },
     "output_type": "execute_result"
    }
   ],
   "source": [
    "class Foo(object):\n",
    "    def __init__(self, data):\n",
    "        self.data = data\n",
    "    def __iter__(self):\n",
    "        return FooIterator(self.data)\n",
    "\n",
    "class FooIterator(object):\n",
    "    def __init__(self, data):\n",
    "        self.data = data\n",
    "        self.index = 0\n",
    "    def __next__(self):\n",
    "        if self.index >= len(self.data):\n",
    "            raise(StopIteration)\n",
    "        value = self.data[self.index]\n",
    "        self.index += 1\n",
    "        return value\n",
    "\n",
    "f = Foo('abcd')\n",
    "i1 = iter(f)\n",
    "i2 = iter(f)\n",
    "i1 is i2"
   ]
  },
  {
   "cell_type": "code",
   "execution_count": 12,
   "metadata": {
    "collapsed": false
   },
   "outputs": [
    {
     "ename": "StopIteration",
     "evalue": "",
     "output_type": "error",
     "traceback": [
      "\u001b[0;31m---------------------------------------------------------------------------\u001b[0m",
      "\u001b[0;31mStopIteration\u001b[0m                             Traceback (most recent call last)",
      "\u001b[0;32m/tmp/ipykernel_428/2270541452.py\u001b[0m in \u001b[0;36m<module>\u001b[0;34m\u001b[0m\n\u001b[0;32m----> 1\u001b[0;31m \u001b[0mprint\u001b[0m\u001b[0;34m(\u001b[0m\u001b[0mnext\u001b[0m\u001b[0;34m(\u001b[0m\u001b[0mi1\u001b[0m\u001b[0;34m)\u001b[0m\u001b[0;34m,\u001b[0m \u001b[0mnext\u001b[0m\u001b[0;34m(\u001b[0m\u001b[0mi2\u001b[0m\u001b[0;34m)\u001b[0m\u001b[0;34m,\u001b[0m \u001b[0mnext\u001b[0m\u001b[0;34m(\u001b[0m\u001b[0mi1\u001b[0m\u001b[0;34m)\u001b[0m\u001b[0;34m)\u001b[0m\u001b[0;34m\u001b[0m\u001b[0;34m\u001b[0m\u001b[0m\n\u001b[0m",
      "\u001b[0;32m/tmp/ipykernel_428/1602622640.py\u001b[0m in \u001b[0;36m__next__\u001b[0;34m(self)\u001b[0m\n\u001b[1;32m     11\u001b[0m     \u001b[0;32mdef\u001b[0m \u001b[0m__next__\u001b[0m\u001b[0;34m(\u001b[0m\u001b[0mself\u001b[0m\u001b[0;34m)\u001b[0m\u001b[0;34m:\u001b[0m\u001b[0;34m\u001b[0m\u001b[0;34m\u001b[0m\u001b[0m\n\u001b[1;32m     12\u001b[0m         \u001b[0;32mif\u001b[0m \u001b[0mself\u001b[0m\u001b[0;34m.\u001b[0m\u001b[0mindex\u001b[0m \u001b[0;34m>=\u001b[0m \u001b[0mlen\u001b[0m\u001b[0;34m(\u001b[0m\u001b[0mself\u001b[0m\u001b[0;34m.\u001b[0m\u001b[0mdata\u001b[0m\u001b[0;34m)\u001b[0m\u001b[0;34m:\u001b[0m\u001b[0;34m\u001b[0m\u001b[0;34m\u001b[0m\u001b[0m\n\u001b[0;32m---> 13\u001b[0;31m             \u001b[0;32mraise\u001b[0m\u001b[0;34m(\u001b[0m\u001b[0mStopIteration\u001b[0m\u001b[0;34m)\u001b[0m\u001b[0;34m\u001b[0m\u001b[0;34m\u001b[0m\u001b[0m\n\u001b[0m\u001b[1;32m     14\u001b[0m         \u001b[0mvalue\u001b[0m \u001b[0;34m=\u001b[0m \u001b[0mself\u001b[0m\u001b[0;34m.\u001b[0m\u001b[0mdata\u001b[0m\u001b[0;34m[\u001b[0m\u001b[0mself\u001b[0m\u001b[0;34m.\u001b[0m\u001b[0mindex\u001b[0m\u001b[0;34m]\u001b[0m\u001b[0;34m\u001b[0m\u001b[0;34m\u001b[0m\u001b[0m\n\u001b[1;32m     15\u001b[0m         \u001b[0mself\u001b[0m\u001b[0;34m.\u001b[0m\u001b[0mindex\u001b[0m \u001b[0;34m+=\u001b[0m \u001b[0;36m1\u001b[0m\u001b[0;34m\u001b[0m\u001b[0;34m\u001b[0m\u001b[0m\n",
      "\u001b[0;31mStopIteration\u001b[0m: "
     ]
    }
   ],
   "source": [
    "print(next(i1), next(i2), next(i1))"
   ]
  },
  {
   "cell_type": "code",
   "execution_count": 14,
   "metadata": {
    "collapsed": false
   },
   "outputs": [
   ],
   "source": [
    "class NegativeFloatError(Exception): \n",
    "    pass\n",
    "\n",
    "class PositiveFloat(float):\n",
    "    def __new__(cls, val):\n",
    "        if val >= 0:\n",
    "            return float.__new__(cls, val)\n",
    "        else:\n",
    "            raise NegativeFloatError(\n",
    "                f\"cannot create a PositiveFloat for {val}\")\n",
    "\n",
    "class FloatTest(float):\n",
    "    def __init__(self):\n",
    "        print(self)"
   ]
  },
  {
   "cell_type": "code",
   "execution_count": 16,
   "metadata": {
    "collapsed": false
   },
   "outputs": [
    {
     "ename": "TypeError",
     "evalue": "__init__() takes 1 positional argument but 2 were given",
     "output_type": "error",
     "traceback": [
      "\u001b[0;31m---------------------------------------------------------------------------\u001b[0m",
      "\u001b[0;31mTypeError\u001b[0m                                 Traceback (most recent call last)",
      "\u001b[0;32m/tmp/ipykernel_428/825029929.py\u001b[0m in \u001b[0;36m<module>\u001b[0;34m\u001b[0m\n\u001b[0;32m----> 1\u001b[0;31m \u001b[0mFloatTest\u001b[0m\u001b[0;34m(\u001b[0m\u001b[0;36m1\u001b[0m\u001b[0;34m)\u001b[0m\u001b[0;34m\u001b[0m\u001b[0;34m\u001b[0m\u001b[0m\n\u001b[0m",
      "\u001b[0;31mTypeError\u001b[0m: __init__() takes 1 positional argument but 2 were given"
     ]
    }
   ],
   "source": [
    "FloatTest(1)"
   ]
  },
  {
   "cell_type": "code",
   "execution_count": 17,
   "metadata": {
    "collapsed": false
   },
   "outputs": [
    {
     "data": {
      "text/plain": [
       "1.0"
      ]
     },
     "execution_count": 17,
     "metadata": {
     },
     "output_type": "execute_result"
    }
   ],
   "source": [
    "PositiveFloat(1)"
   ]
  },
  {
   "cell_type": "code",
   "execution_count": 18,
   "metadata": {
    "collapsed": false
   },
   "outputs": [
    {
     "ename": "NegativeFloatError",
     "evalue": "cannot create a PositiveFloat for -1",
     "output_type": "error",
     "traceback": [
      "\u001b[0;31m---------------------------------------------------------------------------\u001b[0m",
      "\u001b[0;31mNegativeFloatError\u001b[0m                        Traceback (most recent call last)",
      "\u001b[0;32m/tmp/ipykernel_428/606237838.py\u001b[0m in \u001b[0;36m<module>\u001b[0;34m\u001b[0m\n\u001b[0;32m----> 1\u001b[0;31m \u001b[0mPositiveFloat\u001b[0m\u001b[0;34m(\u001b[0m\u001b[0;34m-\u001b[0m\u001b[0;36m1\u001b[0m\u001b[0;34m)\u001b[0m\u001b[0;34m\u001b[0m\u001b[0;34m\u001b[0m\u001b[0m\n\u001b[0m",
      "\u001b[0;32m/tmp/ipykernel_428/3235967856.py\u001b[0m in \u001b[0;36m__new__\u001b[0;34m(cls, val)\u001b[0m\n\u001b[1;32m      8\u001b[0m         \u001b[0;32melse\u001b[0m\u001b[0;34m:\u001b[0m\u001b[0;34m\u001b[0m\u001b[0;34m\u001b[0m\u001b[0m\n\u001b[1;32m      9\u001b[0m             raise NegativeFloatError(\n\u001b[0;32m---> 10\u001b[0;31m                 f\"cannot create a PositiveFloat for {val}\")\n\u001b[0m\u001b[1;32m     11\u001b[0m \u001b[0;34m\u001b[0m\u001b[0m\n\u001b[1;32m     12\u001b[0m \u001b[0;32mclass\u001b[0m \u001b[0mFloatTest\u001b[0m\u001b[0;34m(\u001b[0m\u001b[0mfloat\u001b[0m\u001b[0;34m)\u001b[0m\u001b[0;34m:\u001b[0m\u001b[0;34m\u001b[0m\u001b[0;34m\u001b[0m\u001b[0m\n",
      "\u001b[0;31mNegativeFloatError\u001b[0m: cannot create a PositiveFloat for -1"
     ]
    }
   ],
   "source": [
    "PositiveFloat(-1)"
   ]
  },
  {
   "cell_type": "code",
   "execution_count": 34,
   "metadata": {
    "collapsed": false
   },
   "outputs": [
    {
     "data": {
      "text/plain": [
       "'ATestString'"
      ]
     },
     "execution_count": 34,
     "metadata": {
     },
     "output_type": "execute_result"
    }
   ],
   "source": [
    "class CamelCaseString(str):\n",
    "    \"\"\"\n",
    "    crée automatiquement un chaîne en camel case\n",
    "    si elle est underscored: test_str => TestStr\"\n",
    "    \"\"\"\n",
    "    def __new__(cls, my_str):\n",
    "        a = [x.capitalize() for x in my_str.split('_')]\n",
    "        return str.__new__(cls,''.join(a))\n",
    "        #return ''.join(a)        \n",
    "            \n",
    "c = CamelCaseString(\"a_test_string\")\n",
    "c"
   ]
  },
  {
   "cell_type": "code",
   "execution_count": 35,
   "metadata": {
    "collapsed": false
   },
   "outputs": [
    {
     "data": {
      "text/plain": [
       "__main__.CamelCaseString"
      ]
     },
     "execution_count": 35,
     "metadata": {
     },
     "output_type": "execute_result"
    }
   ],
   "source": [
    "type(c)"
   ]
  },
  {
   "cell_type": "code",
   "execution_count": 37,
   "metadata": {
    "collapsed": false
   },
   "outputs": [
    {
     "data": {
      "text/plain": [
       "(15.0℃, 12.0℃, 200.0K)"
      ]
     },
     "execution_count": 37,
     "metadata": {
     },
     "output_type": "execute_result"
    }
   ],
   "source": [
    "class Temperature(float):\n",
    "    Celcius = 'c'\n",
    "    Kelvin = 'k'\n",
    "    def __new__(cls, temp, unit=None):\n",
    "        instance = float.__new__(cls, temp)\n",
    "        return instance\n",
    "    \n",
    "    def __init__(self, temp, unit=None):\n",
    "        if (unit == None) or (unit.lower() == Temperature.Celcius):\n",
    "            self.unit = Temperature.Celcius\n",
    "        elif unit.lower() == Temperature.Kelvin:\n",
    "            self.unit = Temperature.Kelvin\n",
    "        else:\n",
    "            raise Exception('Unsupported temperature unit')\n",
    "\n",
    "    def __repr__(self):\n",
    "        symbol = '\\u2103' if self.unit == Temperature.Celcius else '\\u212a'\n",
    "        return f'{float.__repr__(self)}{symbol}'\n",
    "    \n",
    "    def __add__(self, obj):\n",
    "        if self.unit == obj.unit:\n",
    "            new_temp = float.__add__(self,obj)\n",
    "            return Temperature(new_temp, self.unit)\n",
    "        else:\n",
    "            raise Exception('cannot add temperatures in different units')\n",
    "                \n",
    "                \n",
    "a = Temperature(15)\n",
    "b = Temperature(12)\n",
    "c = Temperature(200, Temperature.Kelvin)\n",
    "                \n",
    "                \n",
    "a, b, c"
   ]
  },
  {
   "cell_type": "code",
   "execution_count": 38,
   "metadata": {
    "collapsed": false
   },
   "outputs": [
    {
     "data": {
      "text/plain": [
       "(object,)"
      ]
     },
     "execution_count": 38,
     "metadata": {
     },
     "output_type": "execute_result"
    }
   ],
   "source": [
    "class C:\n",
    "    pass\n",
    "t = C.__bases__\n",
    "t"
   ]
  },
  {
   "cell_type": "code",
   "execution_count": 39,
   "metadata": {
    "collapsed": false
   },
   "outputs": [
    {
     "data": {
      "text/plain": [
       "()"
      ]
     },
     "execution_count": 39,
     "metadata": {
     },
     "output_type": "execute_result"
    }
   ],
   "source": [
    "t[0].__bases__"
   ]
  },
  {
   "cell_type": "code",
   "execution_count": 40,
   "metadata": {
    "collapsed": false
   },
   "outputs": [
    {
     "data": {
      "text/plain": [
       "()"
      ]
     },
     "execution_count": 40,
     "metadata": {
     },
     "output_type": "execute_result"
    }
   ],
   "source": [
    "object.__bases__"
   ]
  },
  {
   "cell_type": "code",
   "execution_count": 41,
   "metadata": {
    "collapsed": false
   },
   "outputs": [
    {
     "data": {
      "text/plain": [
       "(object,)"
      ]
     },
     "execution_count": 41,
     "metadata": {
     },
     "output_type": "execute_result"
    }
   ],
   "source": [
    "int.__bases__"
   ]
  },
  {
   "cell_type": "code",
   "execution_count": 42,
   "metadata": {
    "collapsed": false
   },
   "outputs": [
    {
     "data": {
      "text/plain": [
       "(object,)"
      ]
     },
     "execution_count": 42,
     "metadata": {
     },
     "output_type": "execute_result"
    }
   ],
   "source": [
    "dict.__bases__"
   ]
  },
  {
   "cell_type": "code",
   "execution_count": 44,
   "metadata": {
    "collapsed": false
   },
   "outputs": [
    {
     "name": "stdout",
     "output_type": "stream",
     "text": [
      "Avant la creation de l'objet classe C\n",
      "metaclasse : <class '__main__.MaMetaClasse'>\n",
      "bases : ()\n",
      "dict : {'__module__': '__main__', '__qualname__': 'C', 'x': 1}\n",
      "Apres la creation de la classe C\n",
      "classe : <class '__main__.C'>\n",
      "bases : ()\n",
      "dict : {'__module__': '__main__', '__qualname__': 'C', 'x': 1}\n"
     ]
    }
   ],
   "source": [
    "class MaMetaClasse(type): # toute classe qui hérite de type est une métaclasse\n",
    "    def __new__(meta, name, bases, classdict):\n",
    "        print(\"Avant la creation de l'objet classe\", name)\n",
    "        print(\"metaclasse :\", meta)\n",
    "        print(\"bases :\", bases)\n",
    "        print(\"dict :\", classdict)\n",
    "        return type.__new__(meta, name, bases, classdict)\n",
    "\n",
    "    def __init__(classe, name, bases, classdict):\n",
    "        type.__init__(classe, name, bases, classdict)\n",
    "        print(\"Apres la creation de la classe\", name)\n",
    "        print(\"classe :\", classe)\n",
    "        print(\"bases :\", bases)\n",
    "        print(\"dict :\", classdict)\n",
    "\n",
    "class C(metaclass=MaMetaClasse):\n",
    "    x = 1"
   ]
  },
  {
   "cell_type": "code",
   "execution_count": 49,
   "metadata": {
    "collapsed": false
   },
   "outputs": [
   ],
   "source": [
    "c = C()"
   ]
  },
  {
   "cell_type": "code",
   "execution_count": 50,
   "metadata": {
    "collapsed": false
   },
   "outputs": [
    {
     "data": {
      "text/plain": [
       "1"
      ]
     },
     "execution_count": 50,
     "metadata": {
     },
     "output_type": "execute_result"
    }
   ],
   "source": [
    "c.x"
   ]
  },
  {
   "cell_type": "code",
   "execution_count": 51,
   "metadata": {
    "collapsed": false
   },
   "outputs": [
    {
     "data": {
      "text/plain": [
       "__main__.MaMetaClasse"
      ]
     },
     "execution_count": 51,
     "metadata": {
     },
     "output_type": "execute_result"
    }
   ],
   "source": [
    "type(C)"
   ]
  },
  {
   "cell_type": "code",
   "execution_count": 52,
   "metadata": {
    "collapsed": false
   },
   "outputs": [
    {
     "data": {
      "text/plain": [
       "__main__.C"
      ]
     },
     "execution_count": 52,
     "metadata": {
     },
     "output_type": "execute_result"
    }
   ],
   "source": [
    "type(c)"
   ]
  },
  {
   "cell_type": "code",
   "execution_count": 53,
   "metadata": {
    "collapsed": false
   },
   "outputs": [
    {
     "name": "stdout",
     "output_type": "stream",
     "text": [
      "{'__module__': '__main__', 'func_snake_name': <function C.func_snake_name at 0x00005627942a7380>, 'FuncSnakeName': <function C.func_snake_name at 0x00005627942a7380>, '__doc__': None}\n",
      "(<class '__main__.BaseOfAll'>,)\n",
      "in common_func\n"
     ]
    }
   ],
   "source": [
    "class UpperAttrMetaclass(type):\n",
    "    def __new__(meta, clsname, bases, dct):\n",
    "        new_dct = {}\n",
    "        for name, val in dct.items():\n",
    "            if not name.startswith(\"__\"):\n",
    "                new_dct[name] = val\n",
    "                camel_name = (name.replace(\"_\", \" \")\n",
    "                              .title().replace(\" \", \"\"))\n",
    "                new_dct[camel_name] = val\n",
    "            else:\n",
    "                new_dct[name] = val\n",
    "\n",
    "        bases = (BaseOfAll,)\n",
    "        return type.__new__(meta, clsname, bases, new_dct)\n",
    "\n",
    "class BaseOfAll:\n",
    "    def common_func(self):\n",
    "        return \"in common_func\"\n",
    "\n",
    "class C(metaclass=UpperAttrMetaclass):\n",
    "    def func_snake_name(self):\n",
    "        print('in func')\n",
    "\n",
    "print(vars(C), C.__bases__, C().common_func(), sep=\"\\n\")\n"
   ]
  },
  {
   "cell_type": "code",
   "execution_count": 0,
   "metadata": {
    "collapsed": false
   },
   "outputs": [
   ],
   "source": [
   ]
  }
 ],
 "metadata": {
  "kernelspec": {
   "display_name": "PyPy (Python 3)",
   "language": "python",
   "metadata": {
    "cocalc": {
     "description": "PyPy – a fast, compliant alternative Python 3 implementation",
     "priority": 1,
     "url": "https://pypy.org/"
    }
   },
   "name": "pypy3",
   "resource_dir": "/ext/jupyter/kernels/pypy3"
  },
  "language_info": {
   "codemirror_mode": {
    "name": "ipython",
    "version": 3
   },
   "file_extension": ".py",
   "mimetype": "text/x-python",
   "name": "python",
   "nbconvert_exporter": "python",
   "pygments_lexer": "ipython3",
   "version": "3.7.10"
  }
 },
 "nbformat": 4,
 "nbformat_minor": 4
}