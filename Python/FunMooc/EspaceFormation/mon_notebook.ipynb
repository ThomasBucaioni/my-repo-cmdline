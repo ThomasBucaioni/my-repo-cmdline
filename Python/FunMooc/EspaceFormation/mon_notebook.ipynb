{
 "cells": [
  {
   "cell_type": "code",
   "execution_count": 2,
   "metadata": {
    "collapsed": false
   },
   "outputs": [
    {
     "data": {
      "text/plain": [
       "{'__name__': '__main__',\n",
       " '__doc__': 'Automatically created module for IPython interactive environment',\n",
       " '__package__': None,\n",
       " '__loader__': None,\n",
       " '__spec__': None,\n",
       " '__builtin__': <module 'builtins' (built-in)>,\n",
       " '__builtins__': <module 'builtins' (built-in)>,\n",
       " '_ih': ['', 'global()', 'globals()'],\n",
       " '_oh': {},\n",
       " '_dh': ['/home/user/EspaceFormation'],\n",
       " 'In': ['', 'global()', 'globals()'],\n",
       " 'Out': {},\n",
       " 'get_ipython': <bound method InteractiveShell.get_ipython of <ipykernel.zmqshell.ZMQInteractiveShell object at 0x7f1fe36752e0>>,\n",
       " 'exit': <IPython.core.autocall.ZMQExitAutocall at 0x7f1fe0600130>,\n",
       " 'quit': <IPython.core.autocall.ZMQExitAutocall at 0x7f1fe0600130>,\n",
       " '_': '',\n",
       " '__': '',\n",
       " '___': '',\n",
       " 'matplotlib': <module 'matplotlib' from '/usr/local/lib/python3.8/dist-packages/matplotlib/__init__.py'>,\n",
       " '_i': 'global()',\n",
       " '_ii': '',\n",
       " '_iii': '',\n",
       " '_i1': 'global()',\n",
       " '_i2': 'globals()'}"
      ]
     },
     "execution_count": 2,
     "metadata": {
     },
     "output_type": "execute_result"
    }
   ],
   "source": [
    "globals()"
   ]
  },
  {
   "cell_type": "code",
   "execution_count": 11,
   "metadata": {
    "collapsed": false
   },
   "outputs": [
    {
     "data": {
      "text/plain": [
       "<function __main__.myf(x)>"
      ]
     },
     "execution_count": 11,
     "metadata": {
     },
     "output_type": "execute_result"
    }
   ],
   "source": [
    "def myf(x):\n",
    "    return x**2\n",
    "myf"
   ]
  },
  {
   "cell_type": "code",
   "execution_count": 12,
   "metadata": {
    "collapsed": false
   },
   "outputs": [
    {
     "data": {
      "text/plain": [
       "float"
      ]
     },
     "execution_count": 12,
     "metadata": {
     },
     "output_type": "execute_result"
    }
   ],
   "source": [
    "import random as r\n",
    "a = r.random()\n",
    "type(a)"
   ]
  },
  {
   "cell_type": "code",
   "execution_count": 13,
   "metadata": {
    "collapsed": false
   },
   "outputs": [
    {
     "data": {
      "text/plain": [
       "0.002039757020006709"
      ]
     },
     "execution_count": 13,
     "metadata": {
     },
     "output_type": "execute_result"
    }
   ],
   "source": [
    "myf(a)"
   ]
  },
  {
   "cell_type": "code",
   "execution_count": 14,
   "metadata": {
    "collapsed": false
   },
   "outputs": [
   ],
   "source": [
    "class C:\n",
    "    x = 1\n",
    "class D:\n",
    "    x = 1"
   ]
  },
  {
   "cell_type": "code",
   "execution_count": 15,
   "metadata": {
    "collapsed": false
   },
   "outputs": [
    {
     "data": {
      "text/plain": [
       "True"
      ]
     },
     "execution_count": 15,
     "metadata": {
     },
     "output_type": "execute_result"
    }
   ],
   "source": [
    "C.x == D.x"
   ]
  },
  {
   "cell_type": "code",
   "execution_count": 19,
   "metadata": {
    "collapsed": false
   },
   "outputs": [
   ],
   "source": [
    "class Chat:\n",
    "    def __init__(self):\n",
    "        ... # = pass\n",
    "c = Chat()"
   ]
  },
  {
   "cell_type": "code",
   "execution_count": 20,
   "metadata": {
    "collapsed": false
   },
   "outputs": [
    {
     "data": {
      "text/plain": [
       "{}"
      ]
     },
     "execution_count": 20,
     "metadata": {
     },
     "output_type": "execute_result"
    }
   ],
   "source": [
    "vars(c)"
   ]
  },
  {
   "cell_type": "code",
   "execution_count": 43,
   "metadata": {
    "collapsed": false
   },
   "outputs": [
   ],
   "source": [
    "class Chat:\n",
    "    def __init__(self, poid=3, couleur='gris', age=1):\n",
    "        self.poid = poid\n",
    "        self.couleur = couleur\n",
    "        self.age = age\n",
    "    def miaou(self):\n",
    "        if (self.poid<2):\n",
    "            return \"miaou\"\n",
    "        else:\n",
    "            return \"MIAOU\"\n",
    "    def __str__(self):\n",
    "        return f\"{self.age=} {self.poid=} {self.couleur=}\"\n",
    "    def caresse(self):\n",
    "        return 'ronronne'"
   ]
  },
  {
   "cell_type": "code",
   "execution_count": 44,
   "metadata": {
    "collapsed": false
   },
   "outputs": [
   ],
   "source": [
    "c = Chat(age=3, poid=3, couleur='gris')"
   ]
  },
  {
   "cell_type": "code",
   "execution_count": 45,
   "metadata": {
    "collapsed": false
   },
   "outputs": [
    {
     "data": {
      "text/plain": [
       "{'poid': 3, 'couleur': 'gris', 'age': 3}"
      ]
     },
     "execution_count": 45,
     "metadata": {
     },
     "output_type": "execute_result"
    }
   ],
   "source": [
    "vars(c)"
   ]
  },
  {
   "cell_type": "code",
   "execution_count": 46,
   "metadata": {
    "collapsed": false
   },
   "outputs": [
    {
     "data": {
      "text/plain": [
       "'MIAOU'"
      ]
     },
     "execution_count": 46,
     "metadata": {
     },
     "output_type": "execute_result"
    }
   ],
   "source": [
    "c.miaou()"
   ]
  },
  {
   "cell_type": "code",
   "execution_count": 47,
   "metadata": {
    "collapsed": false
   },
   "outputs": [
    {
     "data": {
      "text/plain": [
       "'miaou'"
      ]
     },
     "execution_count": 47,
     "metadata": {
     },
     "output_type": "execute_result"
    }
   ],
   "source": [
    "c2 = Chat(poid=1)\n",
    "c2.miaou()"
   ]
  },
  {
   "cell_type": "code",
   "execution_count": 48,
   "metadata": {
    "collapsed": false
   },
   "outputs": [
    {
     "name": "stdout",
     "output_type": "stream",
     "text": [
      "self.age=1 self.poid=1 self.couleur='gris'\n"
     ]
    }
   ],
   "source": [
    "print(c2)"
   ]
  },
  {
   "cell_type": "code",
   "execution_count": 58,
   "metadata": {
    "collapsed": false
   },
   "outputs": [
    {
     "data": {
      "text/plain": [
       "'ronronne'"
      ]
     },
     "execution_count": 58,
     "metadata": {
     },
     "output_type": "execute_result"
    }
   ],
   "source": [
    "c2.caresse()"
   ]
  },
  {
   "cell_type": "code",
   "execution_count": 55,
   "metadata": {
    "collapsed": false
   },
   "outputs": [
   ],
   "source": [
    "class Sacre(Chat):\n",
    "    def caresse(self):\n",
    "        return \"s'échappe\""
   ]
  },
  {
   "cell_type": "code",
   "execution_count": 56,
   "metadata": {
    "collapsed": false
   },
   "outputs": [
   ],
   "source": [
    "c3 = Sacre()"
   ]
  },
  {
   "cell_type": "code",
   "execution_count": 57,
   "metadata": {
    "collapsed": false
   },
   "outputs": [
    {
     "data": {
      "text/plain": [
       "\"s'échappe\""
      ]
     },
     "execution_count": 57,
     "metadata": {
     },
     "output_type": "execute_result"
    }
   ],
   "source": [
    "c3.caresse()"
   ]
  },
  {
   "cell_type": "code",
   "execution_count": 59,
   "metadata": {
    "collapsed": false
   },
   "outputs": [
    {
     "data": {
      "text/plain": [
       "<bound method Chat.miaou of <__main__.Chat object at 0x7f1f97aed340>>"
      ]
     },
     "execution_count": 59,
     "metadata": {
     },
     "output_type": "execute_result"
    }
   ],
   "source": [
    "c.miaou"
   ]
  },
  {
   "cell_type": "code",
   "execution_count": 60,
   "metadata": {
    "collapsed": false
   },
   "outputs": [
    {
     "data": {
      "text/plain": [
       "'MIAOU'"
      ]
     },
     "execution_count": 60,
     "metadata": {
     },
     "output_type": "execute_result"
    }
   ],
   "source": [
    "c.miaou()"
   ]
  },
  {
   "cell_type": "code",
   "execution_count": 61,
   "metadata": {
    "collapsed": false
   },
   "outputs": [
    {
     "data": {
      "text/plain": [
       "'MIAOU'"
      ]
     },
     "execution_count": 61,
     "metadata": {
     },
     "output_type": "execute_result"
    }
   ],
   "source": [
    "Chat.miaou(c)"
   ]
  },
  {
   "cell_type": "code",
   "execution_count": 95,
   "metadata": {
    "collapsed": false
   },
   "outputs": [
   ],
   "source": [
    "class Chat:\n",
    "    counter=0\n",
    "    def __init__(self):\n",
    "        Chat.counter += 1\n",
    "    @staticmethod\n",
    "    def nb_chats():\n",
    "        return Chat.counter"
   ]
  },
  {
   "cell_type": "code",
   "execution_count": 96,
   "metadata": {
    "collapsed": false
   },
   "outputs": [
    {
     "data": {
      "text/plain": [
       "3"
      ]
     },
     "execution_count": 96,
     "metadata": {
     },
     "output_type": "execute_result"
    }
   ],
   "source": [
    "c1 = Chat()\n",
    "c2 = Chat()\n",
    "c3 = Chat()\n",
    "Chat.counter"
   ]
  },
  {
   "cell_type": "code",
   "execution_count": 97,
   "metadata": {
    "collapsed": false
   },
   "outputs": [
    {
     "data": {
      "text/plain": [
       "3"
      ]
     },
     "execution_count": 97,
     "metadata": {
     },
     "output_type": "execute_result"
    }
   ],
   "source": [
    "c1.nb_chats()"
   ]
  },
  {
   "cell_type": "code",
   "execution_count": 98,
   "metadata": {
    "collapsed": false
   },
   "outputs": [
    {
     "name": "stdout",
     "output_type": "stream",
     "text": [
      "1 1 4\n"
     ]
    }
   ],
   "source": [
    "class Sacre:\n",
    "    counter = 0\n",
    "    def __init__(self):\n",
    "        Sacre.counter += 1\n",
    "        Chat.counter += 1\n",
    "        \n",
    "        \n",
    "    @staticmethod\n",
    "    def nb_sacre():\n",
    "        return Sacre.counter\n",
    "    \n",
    "    \n",
    "c=Sacre()\n",
    "print(c.nb_sacre(), Sacre.nb_sacre(), Chat.nb_chats())"
   ]
  },
  {
   "cell_type": "code",
   "execution_count": 99,
   "metadata": {
    "collapsed": false
   },
   "outputs": [
    {
     "data": {
      "text/plain": [
       "<bound method C.test of <class '__main__.C'>>"
      ]
     },
     "execution_count": 99,
     "metadata": {
     },
     "output_type": "execute_result"
    }
   ],
   "source": [
    "class C:\n",
    "    @classmethod\n",
    "    def test(cls):\n",
    "        print(cls)\n",
    "    # equivalent à test = classmethod(test)\n",
    "C.test"
   ]
  },
  {
   "cell_type": "code",
   "execution_count": 101,
   "metadata": {
    "collapsed": false
   },
   "outputs": [
    {
     "data": {
      "text/plain": [
       "<bound method C.test of <class '__main__.C'>>"
      ]
     },
     "execution_count": 101,
     "metadata": {
     },
     "output_type": "execute_result"
    }
   ],
   "source": [
    "c = C()\n",
    "c.test"
   ]
  },
  {
   "cell_type": "code",
   "execution_count": 102,
   "metadata": {
    "collapsed": false
   },
   "outputs": [
    {
     "name": "stdout",
     "output_type": "stream",
     "text": [
      "<class '__main__.C'>\n"
     ]
    }
   ],
   "source": [
    "C.test()"
   ]
  },
  {
   "cell_type": "code",
   "execution_count": 103,
   "metadata": {
    "collapsed": false
   },
   "outputs": [
    {
     "name": "stdout",
     "output_type": "stream",
     "text": [
      "<class '__main__.C'>\n"
     ]
    }
   ],
   "source": [
    "c.test()"
   ]
  },
  {
   "cell_type": "code",
   "execution_count": 123,
   "metadata": {
    "collapsed": false
   },
   "outputs": [
    {
     "data": {
      "text/plain": [
       "3"
      ]
     },
     "execution_count": 123,
     "metadata": {
     },
     "output_type": "execute_result"
    }
   ],
   "source": [
    "class Chat:\n",
    "    counter = 0\n",
    "\n",
    "\n",
    "    @classmethod\n",
    "    def __init__(cls):\n",
    "        cls.counter += 1\n",
    "\n",
    "\n",
    "    @classmethod\n",
    "    def nb_chats(cls):\n",
    "        return cls.counter\n",
    "\n",
    "\n",
    "c1 = Chat()\n",
    "c2 = Chat()\n",
    "c3 = Chat()\n",
    "Chat.counter\n"
   ]
  },
  {
   "cell_type": "code",
   "execution_count": 122,
   "metadata": {
    "collapsed": false
   },
   "outputs": [
    {
     "name": "stdout",
     "output_type": "stream",
     "text": [
      "1 1 3\n"
     ]
    }
   ],
   "source": [
    "class Sacre(Chat):\n",
    "    counter = 0\n",
    "\n",
    "\n",
    "    #def __init__(self):\n",
    "    #    Sacre.counter += 1\n",
    "    #    Chat.counter += 1\n",
    "\n",
    "\n",
    "    #@classmethod\n",
    "    #def nb_sacre(cls):\n",
    "    #    return cls.counter\n",
    "\n",
    "\n",
    "c=Sacre()\n",
    "#print(c.nb_sacre(), c.nb_chats(), Sacre.nb_sacre(), Sacre.nb_chats(), Chat.nb_chats())\n",
    "print(c.nb_chats(), Sacre.nb_chats(), Chat.nb_chats())"
   ]
  },
  {
   "cell_type": "code",
   "execution_count": 129,
   "metadata": {
    "collapsed": false
   },
   "outputs": [
    {
     "name": "stderr",
     "output_type": "stream",
     "text": [
      "Exception ignored in: <bound method Chat.__del__ of <class '__main__.Chat'>>\n",
      "Traceback (most recent call last):\n",
      "  File \"/tmp/ipykernel_1723/1686719597.py\", line 23, in __del__\n",
      "NameError: name 'cls' is not defined\n"
     ]
    },
    {
     "name": "stderr",
     "output_type": "stream",
     "text": [
      "Exception ignored in: <bound method Chat.__del__ of <class '__main__.Chat'>>\n",
      "Traceback (most recent call last):\n",
      "  File \"/tmp/ipykernel_1723/1686719597.py\", line 23, in __del__\n",
      "NameError: name 'cls' is not defined\n"
     ]
    },
    {
     "name": "stderr",
     "output_type": "stream",
     "text": [
      "Exception ignored in: <bound method Chat.__del__ of <class '__main__.Sacre'>>\n",
      "Traceback (most recent call last):\n",
      "  File \"/tmp/ipykernel_1723/1686719597.py\", line 23, in __del__\n",
      "NameError: name 'cls' is not defined\n"
     ]
    },
    {
     "name": "stdout",
     "output_type": "stream",
     "text": [
      "1 1 4\n",
      "1 1 3\n"
     ]
    }
   ],
   "source": [
    "class Chat:\n",
    "    counter = 0\n",
    "\n",
    "\n",
    "    def __init__(self):\n",
    "        self.count()\n",
    "\n",
    "\n",
    "    @classmethod\n",
    "    def count(cls):\n",
    "        cls.counter += 1\n",
    "        if cls != Chat:\n",
    "            Chat.counter += 1\n",
    "\n",
    "\n",
    "    @classmethod\n",
    "    def nb_chats(cls):\n",
    "        return cls.counter\n",
    "    \n",
    "    \n",
    "    @classmethod\n",
    "    def __del__(cls): # appelé uniquement par le garbage collector\n",
    "        cls.counter -= 1\n",
    "        if cls != Chat:\n",
    "            Chat.counter -= 1\n",
    "\n",
    "\n",
    "\n",
    "c1 = Chat()\n",
    "c2 = Chat()\n",
    "c3 = Chat()\n",
    "Chat.counter\n",
    "\n",
    "class Sacre(Chat):\n",
    "    counter = 0\n",
    "\n",
    "c=Sacre()\n",
    "print(c.nb_chats(), Sacre.nb_chats(), Chat.nb_chats())\n",
    "del(c1)\n",
    "print(c.nb_chats(), Sacre.nb_chats(), Chat.nb_chats())"
   ]
  },
  {
   "cell_type": "code",
   "execution_count": 2,
   "metadata": {
    "collapsed": false
   },
   "outputs": [
   ],
   "source": [
    "class Date(object):\n",
    "\n",
    "    def __init__(self, day=0, month=0, year=0):\n",
    "        self.day = day\n",
    "        self.month = month\n",
    "        self.year = year\n",
    "\n",
    "    @classmethod\n",
    "    def from_string(cls, date_as_string):\n",
    "        day, month, year = map(int, date_as_string.split('-'))\n",
    "        date1 = cls(day, month, year)\n",
    "        return date1\n",
    "\n",
    "    @staticmethod\n",
    "    def is_date_valid(date_as_string):\n",
    "        day, month, year = map(int, date_as_string.split('-'))\n",
    "        return day <= 31 and month <= 12 and year <= 3999\n",
    "\n",
    "date2 = Date.from_string('11-09-2012')\n",
    "is_date = Date.is_date_valid('11-09-2012')"
   ]
  },
  {
   "cell_type": "code",
   "execution_count": 3,
   "metadata": {
    "collapsed": false
   },
   "outputs": [
    {
     "name": "stdout",
     "output_type": "stream",
     "text": [
      "<__main__.Date object at 0x7fcdb3b91400> True\n"
     ]
    }
   ],
   "source": [
    "print(date2, is_date)"
   ]
  },
  {
   "cell_type": "code",
   "execution_count": 29,
   "metadata": {
    "collapsed": false
   },
   "outputs": [
    {
     "name": "stdout",
     "output_type": "stream",
     "text": [
      "self.day=1, self.month=2, self.year=3\n"
     ]
    }
   ],
   "source": [
    "class Date(object):\n",
    "\n",
    "    def __init__(self, day=0, month=0, year=0):\n",
    "        self.day = day\n",
    "        self.month = month\n",
    "        self.year = year\n",
    "\n",
    "        \n",
    "    def __str__(self):\n",
    "        return f\"{self.day=}, {self.month=}, {self.year=}\"\n",
    "    \n",
    "    \n",
    "    def __repr__(self):\n",
    "        return f\"{self.day=}, {self.month=}, {self.year=}\"\n",
    "    \n",
    "    \n",
    "    @staticmethod\n",
    "    def from_string(s):\n",
    "        \"\"\"\n",
    "        create a Date object from a string in the format \"day/month/year\", e.g., \"10/12/2020\"\n",
    "        \n",
    "        param:\n",
    "        -----\n",
    "        s: a string in the format \"day/month/year\"\n",
    "        \n",
    "        return:\n",
    "        -----\n",
    "        a Date object\n",
    "        \"\"\"\n",
    "        #return Date(*map(int, s.split('/')))\n",
    "        return Date(*[int(i) for i in s.split('/')])\n",
    "    \n",
    "    \n",
    "d = Date(1,2,3)\n",
    "print(d)"
   ]
  },
  {
   "cell_type": "code",
   "execution_count": 30,
   "metadata": {
    "collapsed": false
   },
   "outputs": [
    {
     "name": "stdout",
     "output_type": "stream",
     "text": [
      "self.day='1', self.month='2', self.year='3'\n",
      "self.day=1, self.month=2, self.year=3\n"
     ]
    }
   ],
   "source": [
    "s = \"1/2/3\"\n",
    "d = Date(*s.split('/'))\n",
    "print(d)\n",
    "d = Date.from_string(s)\n",
    "print(d)"
   ]
  },
  {
   "cell_type": "code",
   "execution_count": 28,
   "metadata": {
    "collapsed": false
   },
   "outputs": [
    {
     "name": "stdout",
     "output_type": "stream",
     "text": [
      "a a 1 ans\n",
      "b a 2 ans\n",
      "c a 3 ans\n",
      "a a 1 ans\n",
      "b a 2 ans\n",
      "c a 3 ans\n",
      "dict_keys(['a', 'b', 'c']) dict_values([1, 2, 3]) dict_items([('a', 1), ('b', 2), ('c', 3)])\n"
     ]
    }
   ],
   "source": [
    "agenda = {'a':1, 'b':2, 'c':3}\n",
    "for k in agenda:\n",
    "    print(f\"{k} a {agenda[k]} ans\")\n",
    "for nom, age in agenda.items():\n",
    "    print(f\"{nom} a {age} ans\")\n",
    "print(agenda.keys(), agenda.values(), agenda.items())"
   ]
  },
  {
   "cell_type": "code",
   "execution_count": 26,
   "metadata": {
    "collapsed": false
   },
   "outputs": [
    {
     "data": {
      "text/plain": [
       "[1, 4, 9]"
      ]
     },
     "execution_count": 26,
     "metadata": {
     },
     "output_type": "execute_result"
    }
   ],
   "source": [
    "age = [1,2,3]\n",
    "a = [i**2 for i in age]\n",
    "a"
   ]
  },
  {
   "cell_type": "code",
   "execution_count": 0,
   "metadata": {
    "collapsed": false
   },
   "outputs": [
   ],
   "source": [
   ]
  }
 ],
 "metadata": {
  "kernelspec": {
   "display_name": "Python 3 (system-wide)",
   "language": "python",
   "metadata": {
    "cocalc": {
     "description": "Python 3 programming language",
     "priority": 100,
     "url": "https://www.python.org/"
    }
   },
   "name": "python3",
   "resource_dir": "/ext/jupyter/kernels/python3"
  },
  "language_info": {
   "codemirror_mode": {
    "name": "ipython",
    "version": 3
   },
   "file_extension": ".py",
   "mimetype": "text/x-python",
   "name": "python",
   "nbconvert_exporter": "python",
   "pygments_lexer": "ipython3",
   "version": "3.8.10"
  }
 },
 "nbformat": 4,
 "nbformat_minor": 4
}