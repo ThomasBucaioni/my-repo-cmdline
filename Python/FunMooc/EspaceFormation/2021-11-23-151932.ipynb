{
 "cells": [
  {
   "cell_type": "markdown",
   "metadata": {
    "collapsed": false
   },
   "source": [
    "# Gestion avancée des attributs"
   ]
  },
  {
   "cell_type": "code",
   "execution_count": 65,
   "metadata": {
    "collapsed": false
   },
   "outputs": [
    {
     "name": "stdout",
     "output_type": "stream",
     "text": [
      "nok\n",
      "nok\n",
      "nok\n"
     ]
    }
   ],
   "source": [
    "class ThermostatOutOfRangeError(Exception):\n",
    "    pass\n",
    "\n",
    "class Thermostat:\n",
    "    \n",
    "    \n",
    "    def __init__(self, temp):\n",
    "        \"\"\"\n",
    "        param\n",
    "        -----\n",
    "        temp: initial thermostat temperature\n",
    "        \"\"\"\n",
    "        self.min_temp = 5\n",
    "        self.max_temp = 25\n",
    "        self.temp = temp\n",
    "        \n",
    "        \n",
    "    def __repr__(self):\n",
    "        return str(self.temp)\n",
    "    \n",
    "    \n",
    "    def set_temp(self, temp):\n",
    "        if (temp<self.min_temp) or (temp>self.max_temp):\n",
    "            raise ThermostatOutOfRangeError(temp)\n",
    "        else:\n",
    "            self._temp = temp\n",
    "\n",
    "            \n",
    "    def set_min_temp(self, temp):\n",
    "        if (temp<0):\n",
    "            raise ThermostatOutOfRangeError(temp)\n",
    "        else:\n",
    "            self._min_temp = temp\n",
    "    \n",
    "    \n",
    "    def set_max_temp(self, temp):\n",
    "        if (temp>30):\n",
    "            raise ThermostatOutOfRangeError(temp)\n",
    "        else:\n",
    "            self._max_temp = temp\n",
    "    \n",
    "    \n",
    "    def get_temp(self):\n",
    "        return self._temp\n",
    "    \n",
    "    \n",
    "    def get_min_temp(self):\n",
    "        return self._min_temp\n",
    "    \n",
    "    \n",
    "    def get_max_temp(self):\n",
    "        return self._max_temp\n",
    "    \n",
    "    \n",
    "    def del_temp(self):\n",
    "        raise Exception('cannot remove temp')\n",
    "    \n",
    "    \n",
    "    def del_min_temp(self):\n",
    "        raise Exception('cannot remove temp')\n",
    "    \n",
    "    \n",
    "    def del_max_temp(self):\n",
    "        raise Exception('cannot remove temp')\n",
    "    \n",
    "    \n",
    "    temp = property(fget = get_temp, fset = set_temp, fdel = del_temp, doc = \"Mon autre doc sur temp\")\n",
    "    min_temp = property(get_min_temp, set_min_temp, del_min_temp, \"Mon autre doc sur min_temp\")\n",
    "    max_temp = property(get_max_temp, set_max_temp, del_max_temp, \"Mon autre doc sur max_temp\")\n",
    "    \n",
    "    \n",
    "t = Thermostat(20)\n",
    "\n",
    "\n",
    "try:\n",
    "    t.min_temp = -1\n",
    "except ThermostatOutOfRangeError:\n",
    "    print('nok')\n",
    "    \n",
    "    \n",
    "try:\n",
    "    t.max_temp = 31\n",
    "except ThermostatOutOfRangeError:\n",
    "    print('nok')\n",
    "    \n",
    "    \n",
    "try:\n",
    "    t.temp = 28\n",
    "except ThermostatOutOfRangeError:\n",
    "    print('nok')\n"
   ]
  },
  {
   "cell_type": "code",
   "execution_count": 62,
   "metadata": {
    "collapsed": false
   },
   "outputs": [
    {
     "name": "stdout",
     "output_type": "stream",
     "text": [
      "20\n"
     ]
    }
   ],
   "source": [
    "print(t)"
   ]
  },
  {
   "cell_type": "code",
   "execution_count": 56,
   "metadata": {
    "collapsed": false
   },
   "outputs": [
    {
     "name": "stdout",
     "output_type": "stream",
     "text": [
      "20\n"
     ]
    },
    {
     "ename": "ThermostatOutOfRangeError",
     "evalue": "28",
     "output_type": "error",
     "traceback": [
      "\u001b[0;31m---------------------------------------------------------------------------\u001b[0m",
      "\u001b[0;31mThermostatOutOfRangeError\u001b[0m                 Traceback (most recent call last)",
      "\u001b[0;32m/tmp/ipykernel_1754/2233938058.py\u001b[0m in \u001b[0;36m<module>\u001b[0;34m\u001b[0m\n\u001b[1;32m      1\u001b[0m \u001b[0mprint\u001b[0m\u001b[0;34m(\u001b[0m\u001b[0mt\u001b[0m\u001b[0;34m.\u001b[0m\u001b[0mget_temp\u001b[0m\u001b[0;34m(\u001b[0m\u001b[0;34m)\u001b[0m\u001b[0;34m)\u001b[0m\u001b[0;34m\u001b[0m\u001b[0;34m\u001b[0m\u001b[0m\n\u001b[0;32m----> 2\u001b[0;31m \u001b[0mt\u001b[0m\u001b[0;34m.\u001b[0m\u001b[0mset_temp\u001b[0m\u001b[0;34m(\u001b[0m\u001b[0;36m28\u001b[0m\u001b[0;34m)\u001b[0m\u001b[0;34m\u001b[0m\u001b[0;34m\u001b[0m\u001b[0m\n\u001b[0m",
      "\u001b[0;32m/tmp/ipykernel_1754/4014894554.py\u001b[0m in \u001b[0;36mset_temp\u001b[0;34m(self, temp)\u001b[0m\n\u001b[1;32m     22\u001b[0m     \u001b[0;32mdef\u001b[0m \u001b[0mset_temp\u001b[0m\u001b[0;34m(\u001b[0m\u001b[0mself\u001b[0m\u001b[0;34m,\u001b[0m \u001b[0mtemp\u001b[0m\u001b[0;34m)\u001b[0m\u001b[0;34m:\u001b[0m\u001b[0;34m\u001b[0m\u001b[0;34m\u001b[0m\u001b[0m\n\u001b[1;32m     23\u001b[0m         \u001b[0;32mif\u001b[0m \u001b[0;34m(\u001b[0m\u001b[0mtemp\u001b[0m\u001b[0;34m<\u001b[0m\u001b[0;36m5\u001b[0m\u001b[0;34m)\u001b[0m \u001b[0;32mor\u001b[0m \u001b[0;34m(\u001b[0m\u001b[0mtemp\u001b[0m\u001b[0;34m>\u001b[0m\u001b[0;36m25\u001b[0m\u001b[0;34m)\u001b[0m\u001b[0;34m:\u001b[0m\u001b[0;34m\u001b[0m\u001b[0;34m\u001b[0m\u001b[0m\n\u001b[0;32m---> 24\u001b[0;31m             \u001b[0;32mraise\u001b[0m \u001b[0mThermostatOutOfRangeError\u001b[0m\u001b[0;34m(\u001b[0m\u001b[0mtemp\u001b[0m\u001b[0;34m)\u001b[0m\u001b[0;34m\u001b[0m\u001b[0;34m\u001b[0m\u001b[0m\n\u001b[0m\u001b[1;32m     25\u001b[0m         \u001b[0;32melse\u001b[0m\u001b[0;34m:\u001b[0m\u001b[0;34m\u001b[0m\u001b[0;34m\u001b[0m\u001b[0m\n\u001b[1;32m     26\u001b[0m             \u001b[0mself\u001b[0m\u001b[0;34m.\u001b[0m\u001b[0m_temp\u001b[0m \u001b[0;34m=\u001b[0m \u001b[0mtemp\u001b[0m\u001b[0;34m\u001b[0m\u001b[0;34m\u001b[0m\u001b[0m\n",
      "\u001b[0;31mThermostatOutOfRangeError\u001b[0m: 28"
     ]
    }
   ],
   "source": [
    "print(t.get_temp())\n",
    "t.set_temp(28)"
   ]
  },
  {
   "cell_type": "code",
   "execution_count": 57,
   "metadata": {
    "collapsed": false
   },
   "outputs": [
    {
     "data": {
      "text/plain": [
       "{'_temp': 20, '_min_temp': 5, '_max_temp': 25}"
      ]
     },
     "execution_count": 57,
     "metadata": {
     },
     "output_type": "execute_result"
    }
   ],
   "source": [
    "vars(t)"
   ]
  },
  {
   "cell_type": "code",
   "execution_count": 58,
   "metadata": {
    "collapsed": false
   },
   "outputs": [
    {
     "ename": "Exception",
     "evalue": "cannot remove temp",
     "output_type": "error",
     "traceback": [
      "\u001b[0;31m---------------------------------------------------------------------------\u001b[0m",
      "\u001b[0;31mException\u001b[0m                                 Traceback (most recent call last)",
      "\u001b[0;32m/tmp/ipykernel_1754/3770078683.py\u001b[0m in \u001b[0;36m<module>\u001b[0;34m\u001b[0m\n\u001b[0;32m----> 1\u001b[0;31m \u001b[0mt\u001b[0m\u001b[0;34m.\u001b[0m\u001b[0mdel_temp\u001b[0m\u001b[0;34m(\u001b[0m\u001b[0;34m)\u001b[0m\u001b[0;34m\u001b[0m\u001b[0;34m\u001b[0m\u001b[0m\n\u001b[0m",
      "\u001b[0;32m/tmp/ipykernel_1754/4014894554.py\u001b[0m in \u001b[0;36mdel_temp\u001b[0;34m(self)\u001b[0m\n\u001b[1;32m     54\u001b[0m \u001b[0;34m\u001b[0m\u001b[0m\n\u001b[1;32m     55\u001b[0m     \u001b[0;32mdef\u001b[0m \u001b[0mdel_temp\u001b[0m\u001b[0;34m(\u001b[0m\u001b[0mself\u001b[0m\u001b[0;34m)\u001b[0m\u001b[0;34m:\u001b[0m\u001b[0;34m\u001b[0m\u001b[0;34m\u001b[0m\u001b[0m\n\u001b[0;32m---> 56\u001b[0;31m         \u001b[0;32mraise\u001b[0m \u001b[0mException\u001b[0m\u001b[0;34m(\u001b[0m\u001b[0;34m'cannot remove temp'\u001b[0m\u001b[0;34m)\u001b[0m\u001b[0;34m\u001b[0m\u001b[0;34m\u001b[0m\u001b[0m\n\u001b[0m\u001b[1;32m     57\u001b[0m \u001b[0;34m\u001b[0m\u001b[0m\n\u001b[1;32m     58\u001b[0m \u001b[0;34m\u001b[0m\u001b[0m\n",
      "\u001b[0;31mException\u001b[0m: cannot remove temp"
     ]
    }
   ],
   "source": [
    "t.del_temp()"
   ]
  },
  {
   "cell_type": "code",
   "execution_count": 59,
   "metadata": {
    "collapsed": false
   },
   "outputs": [
    {
     "ename": "Exception",
     "evalue": "cannot remove temp",
     "output_type": "error",
     "traceback": [
      "\u001b[0;31m---------------------------------------------------------------------------\u001b[0m",
      "\u001b[0;31mException\u001b[0m                                 Traceback (most recent call last)",
      "\u001b[0;32m/tmp/ipykernel_1754/2299836021.py\u001b[0m in \u001b[0;36m<module>\u001b[0;34m\u001b[0m\n\u001b[0;32m----> 1\u001b[0;31m \u001b[0;32mdel\u001b[0m \u001b[0mt\u001b[0m\u001b[0;34m.\u001b[0m\u001b[0mtemp\u001b[0m\u001b[0;34m\u001b[0m\u001b[0;34m\u001b[0m\u001b[0m\n\u001b[0m",
      "\u001b[0;32m/tmp/ipykernel_1754/4014894554.py\u001b[0m in \u001b[0;36mdel_temp\u001b[0;34m(self)\u001b[0m\n\u001b[1;32m     54\u001b[0m \u001b[0;34m\u001b[0m\u001b[0m\n\u001b[1;32m     55\u001b[0m     \u001b[0;32mdef\u001b[0m \u001b[0mdel_temp\u001b[0m\u001b[0;34m(\u001b[0m\u001b[0mself\u001b[0m\u001b[0;34m)\u001b[0m\u001b[0;34m:\u001b[0m\u001b[0;34m\u001b[0m\u001b[0;34m\u001b[0m\u001b[0m\n\u001b[0;32m---> 56\u001b[0;31m         \u001b[0;32mraise\u001b[0m \u001b[0mException\u001b[0m\u001b[0;34m(\u001b[0m\u001b[0;34m'cannot remove temp'\u001b[0m\u001b[0;34m)\u001b[0m\u001b[0;34m\u001b[0m\u001b[0;34m\u001b[0m\u001b[0m\n\u001b[0m\u001b[1;32m     57\u001b[0m \u001b[0;34m\u001b[0m\u001b[0m\n\u001b[1;32m     58\u001b[0m \u001b[0;34m\u001b[0m\u001b[0m\n",
      "\u001b[0;31mException\u001b[0m: cannot remove temp"
     ]
    }
   ],
   "source": [
    "del t.temp"
   ]
  },
  {
   "cell_type": "code",
   "execution_count": 46,
   "metadata": {
    "collapsed": false
   },
   "outputs": [
    {
     "name": "stdout",
     "output_type": "stream",
     "text": [
      "Help on class Thermostat in module __main__:\n",
      "\n",
      "class Thermostat(builtins.object)\n",
      " |  Thermostat(temp)\n",
      " |  \n",
      " |  Methods defined here:\n",
      " |  \n",
      " |  __init__(self, temp)\n",
      " |      param\n",
      " |      -----\n",
      " |      temp: initial thermostat temperature\n",
      " |  \n",
      " |  __repr__(self)\n",
      " |      Return repr(self).\n",
      " |  \n",
      " |  del_temp(self)\n",
      " |  \n",
      " |  get_temp(self)\n",
      " |  \n",
      " |  set_temp(self, temp)\n",
      " |  \n",
      " |  ----------------------------------------------------------------------\n",
      " |  Data descriptors defined here:\n",
      " |  \n",
      " |  __dict__\n",
      " |      dictionary for instance variables (if defined)\n",
      " |  \n",
      " |  __weakref__\n",
      " |      list of weak references to the object (if defined)\n",
      " |  \n",
      " |  temp\n",
      " |      Mon autre doc sur temp\n",
      "\n"
     ]
    }
   ],
   "source": [
    "help(Thermostat)"
   ]
  },
  {
   "cell_type": "code",
   "execution_count": 66,
   "metadata": {
    "collapsed": false
   },
   "outputs": [
    {
     "name": "stdout",
     "output_type": "stream",
     "text": [
      "set x to 2\n",
      "get x\n"
     ]
    },
    {
     "data": {
      "text/plain": [
       "2"
      ]
     },
     "execution_count": 66,
     "metadata": {
     },
     "output_type": "execute_result"
    }
   ],
   "source": [
    "class C:\n",
    "    def __init__(self):\n",
    "        self._x = None\n",
    "\n",
    "    \n",
    "    @property\n",
    "    def x(self):    # appelé par c.x\n",
    "        'docstring for property x'\n",
    "        print('get x')\n",
    "        return self._x\n",
    "    \n",
    "    \n",
    "    @x.setter\n",
    "    def x(self, value):    # appelé par c.x = value\n",
    "        print(f'set x to {value}')\n",
    "        self._x = value\n",
    "\n",
    "    \n",
    "    @x.deleter\n",
    "    def x(self):    # appelé par del c.x\n",
    "        print('del x')\n",
    "        del self._x\n",
    "\n",
    "        \n",
    "c = C()\n",
    "c.x = 2\n",
    "c.x"
   ]
  },
  {
   "cell_type": "code",
   "execution_count": 67,
   "metadata": {
    "collapsed": false
   },
   "outputs": [
    {
     "name": "stdout",
     "output_type": "stream",
     "text": [
      "del x\n"
     ]
    }
   ],
   "source": [
    "del c.x"
   ]
  },
  {
   "cell_type": "code",
   "execution_count": 68,
   "metadata": {
    "collapsed": false
   },
   "outputs": [
    {
     "name": "stdout",
     "output_type": "stream",
     "text": [
      "get x\n"
     ]
    },
    {
     "ename": "AttributeError",
     "evalue": "'C' object has no attribute '_x'",
     "output_type": "error",
     "traceback": [
      "\u001b[0;31m---------------------------------------------------------------------------\u001b[0m",
      "\u001b[0;31mAttributeError\u001b[0m                            Traceback (most recent call last)",
      "\u001b[0;32m/tmp/ipykernel_1754/2178408936.py\u001b[0m in \u001b[0;36m<module>\u001b[0;34m\u001b[0m\n\u001b[0;32m----> 1\u001b[0;31m \u001b[0mc\u001b[0m\u001b[0;34m.\u001b[0m\u001b[0mx\u001b[0m\u001b[0;34m\u001b[0m\u001b[0;34m\u001b[0m\u001b[0m\n\u001b[0m",
      "\u001b[0;32m/tmp/ipykernel_1754/2902335429.py\u001b[0m in \u001b[0;36mx\u001b[0;34m(self)\u001b[0m\n\u001b[1;32m      8\u001b[0m         \u001b[0;34m'docstring for property x'\u001b[0m\u001b[0;34m\u001b[0m\u001b[0;34m\u001b[0m\u001b[0m\n\u001b[1;32m      9\u001b[0m         \u001b[0mprint\u001b[0m\u001b[0;34m(\u001b[0m\u001b[0;34m'get x'\u001b[0m\u001b[0;34m)\u001b[0m\u001b[0;34m\u001b[0m\u001b[0;34m\u001b[0m\u001b[0m\n\u001b[0;32m---> 10\u001b[0;31m         \u001b[0;32mreturn\u001b[0m \u001b[0mself\u001b[0m\u001b[0;34m.\u001b[0m\u001b[0m_x\u001b[0m\u001b[0;34m\u001b[0m\u001b[0;34m\u001b[0m\u001b[0m\n\u001b[0m\u001b[1;32m     11\u001b[0m \u001b[0;34m\u001b[0m\u001b[0m\n\u001b[1;32m     12\u001b[0m \u001b[0;34m\u001b[0m\u001b[0m\n",
      "\u001b[0;31mAttributeError\u001b[0m: 'C' object has no attribute '_x'"
     ]
    }
   ],
   "source": [
    "c.x"
   ]
  },
  {
   "cell_type": "code",
   "execution_count": 1,
   "metadata": {
    "collapsed": false
   },
   "outputs": [
    {
     "name": "stdout",
     "output_type": "stream",
     "text": [
      "set rows to 3\n",
      "rows {'_rows': 3}\n",
      "set cols to 4\n",
      "get size\n",
      "get rows\n",
      "get cols\n",
      "get size\n",
      "3 4 12\n"
     ]
    }
   ],
   "source": [
    "class Matrice:\n",
    "    def __init__(self, dims):\n",
    "        self.rows = dims[0]\n",
    "        self.cols = dims[1]\n",
    "        self.size\n",
    "        \n",
    "    @property\n",
    "    def rows(self):    \n",
    "        'docstring for property rows'\n",
    "        print('get rows')\n",
    "        return self._rows\n",
    "    \n",
    "        \n",
    "    @rows.setter\n",
    "    def rows(self, value):    # appelé par c.x = value\n",
    "        print(f'set rows to {value}')\n",
    "        self._rows = value\n",
    "        try:\n",
    "            print('rows', vars(self))\n",
    "            vars(self)['_cols']\n",
    "            self._size = self._cols * self._rows\n",
    "        except:\n",
    "            pass\n",
    "    \n",
    "    @property\n",
    "    def cols(self):    \n",
    "        'docstring for property cols'\n",
    "        print('get cols')\n",
    "        if self._cols:\n",
    "            return self._cols\n",
    "        else:\n",
    "            return 1\n",
    "    \n",
    "        \n",
    "    @cols.setter\n",
    "    def cols(self, value):    # appelé par c.x = value\n",
    "        print(f'set cols to {value}')\n",
    "        self._cols = value\n",
    "        self._size = self._cols * self._rows\n",
    "\n",
    "    \n",
    "    @property\n",
    "    def size(self):    \n",
    "        'docstring for property size'\n",
    "        print('get size')\n",
    "        return self._size\n",
    "    \n",
    "        \n",
    "m = Matrice((3,4))\n",
    "print(m.rows, m.cols, m.size)"
   ]
  },
  {
   "cell_type": "code",
   "execution_count": 94,
   "metadata": {
    "collapsed": false
   },
   "outputs": [
    {
     "data": {
      "text/plain": [
       "{'_rows': 3, '_cols': 4, '_size': 12}"
      ]
     },
     "execution_count": 94,
     "metadata": {
     },
     "output_type": "execute_result"
    }
   ],
   "source": [
    "vars(m)"
   ]
  },
  {
   "cell_type": "code",
   "execution_count": 95,
   "metadata": {
    "collapsed": false
   },
   "outputs": [
    {
     "name": "stdout",
     "output_type": "stream",
     "text": [
      "set rows to 4\n",
      "rows {'_rows': 4, '_cols': 4, '_size': 12}\n"
     ]
    }
   ],
   "source": [
    "m.rows = 4"
   ]
  },
  {
   "cell_type": "code",
   "execution_count": 96,
   "metadata": {
    "collapsed": false
   },
   "outputs": [
    {
     "name": "stdout",
     "output_type": "stream",
     "text": [
      "get size\n"
     ]
    },
    {
     "data": {
      "text/plain": [
       "16"
      ]
     },
     "execution_count": 96,
     "metadata": {
     },
     "output_type": "execute_result"
    }
   ],
   "source": [
    "m.size"
   ]
  },
  {
   "cell_type": "code",
   "execution_count": 99,
   "metadata": {
    "collapsed": false
   },
   "outputs": [
    {
     "data": {
      "text/plain": [
       "4"
      ]
     },
     "execution_count": 99,
     "metadata": {
     },
     "output_type": "execute_result"
    }
   ],
   "source": [
    "vars(m)['_cols']"
   ]
  },
  {
   "cell_type": "code",
   "execution_count": 3,
   "metadata": {
    "collapsed": false
   },
   "outputs": [
    {
     "name": "stdout",
     "output_type": "stream",
     "text": [
      "set x\n",
      "get 1 times\n",
      "0\n",
      "set x\n"
     ]
    }
   ],
   "source": [
    "class TraceAccessX:\n",
    "    'docstring for descriptor TraceAccessX'\n",
    "    \n",
    "    \n",
    "    def __init__(self):\n",
    "        self.nb_get = 0\n",
    "        \n",
    "        \n",
    "    def __get__(self, inst, insttype):\n",
    "        self.nb_get = self.nb_get + 1\n",
    "        print(f'get {self.nb_get} times')\n",
    "        return inst._x\n",
    "    \n",
    "    \n",
    "    def __set__(self, inst, val):\n",
    "        print('set x')\n",
    "        inst._x = val\n",
    "        \n",
    "        \n",
    "    def __delete__(self, inst):\n",
    "        print('deleting x...')\n",
    "        del inst._x\n",
    "        \n",
    "    \n",
    "class C:\n",
    "    def __init__(self):\n",
    "        self.x = 0\n",
    "    x = TraceAccessX()\n",
    "c = C()\n",
    "print(c.x)\n",
    "c.x = 1"
   ]
  },
  {
   "cell_type": "code",
   "execution_count": 6,
   "metadata": {
    "collapsed": false
   },
   "outputs": [
    {
     "name": "stdout",
     "output_type": "stream",
     "text": [
      "set x\n",
      "set x\n",
      "get size\n",
      "get 1 times\n",
      "get 1 times\n",
      "get 2 times\n",
      "get 2 times\n",
      "get size\n",
      "get 3 times\n",
      "get 3 times\n",
      "3 4 12\n"
     ]
    }
   ],
   "source": [
    "class TraceAccessX:\n",
    "    'docstring for descriptor TraceAccessX'\n",
    "\n",
    "\n",
    "    def __init__(self):\n",
    "        self.nb_get = 0\n",
    "\n",
    "\n",
    "    def __get__(self, inst, insttype):\n",
    "        self.nb_get = self.nb_get + 1\n",
    "        print(f'get {self.nb_get} times')\n",
    "        return self._x\n",
    "\n",
    "\n",
    "    def __set__(self, inst, val):\n",
    "        print('set x')\n",
    "        self._x = val\n",
    "\n",
    "\n",
    "    def __delete__(self, inst):\n",
    "        print('deleting x...')\n",
    "        del self._x\n",
    "\n",
    "\n",
    "class Matrice:\n",
    "    def __init__(self, dims):\n",
    "        self.rows = dims[0]\n",
    "        self.cols = dims[1]\n",
    "        self.size\n",
    "\n",
    "        \n",
    "    @property\n",
    "    def size(self):\n",
    "        'docstring for property size'\n",
    "        print('get size')\n",
    "        return self.rows * self.cols\n",
    "\n",
    "    \n",
    "    rows = TraceAccessX()\n",
    "    cols = TraceAccessX()\n",
    "    \n",
    "    \n",
    "m = Matrice((3,4))\n",
    "print(m.rows, m.cols, m.size)"
   ]
  },
  {
   "cell_type": "code",
   "execution_count": 7,
   "metadata": {
    "collapsed": false
   },
   "outputs": [
    {
     "data": {
      "text/plain": [
       "{'_x': 0}"
      ]
     },
     "execution_count": 7,
     "metadata": {
     },
     "output_type": "execute_result"
    }
   ],
   "source": [
    "class TraceAccessX:\n",
    "    def __get__(self, inst, insttype):\n",
    "        print('get x')\n",
    "        return inst._x\n",
    "\n",
    "class C:\n",
    "    def __init__(self):\n",
    "        self._x = 0\n",
    "    x = TraceAccessX()\n",
    "    \n",
    "c = C()\n",
    "\n",
    "vars(c)"
   ]
  },
  {
   "cell_type": "code",
   "execution_count": 8,
   "metadata": {
    "collapsed": false
   },
   "outputs": [
    {
     "name": "stdout",
     "output_type": "stream",
     "text": [
      "get x\n"
     ]
    },
    {
     "data": {
      "text/plain": [
       "0"
      ]
     },
     "execution_count": 8,
     "metadata": {
     },
     "output_type": "execute_result"
    }
   ],
   "source": [
    "c.x"
   ]
  },
  {
   "cell_type": "code",
   "execution_count": 9,
   "metadata": {
    "collapsed": false
   },
   "outputs": [
   ],
   "source": [
    "c.x = 10"
   ]
  },
  {
   "cell_type": "code",
   "execution_count": 10,
   "metadata": {
    "collapsed": false
   },
   "outputs": [
    {
     "data": {
      "text/plain": [
       "{'_x': 0, 'x': 10}"
      ]
     },
     "execution_count": 10,
     "metadata": {
     },
     "output_type": "execute_result"
    }
   ],
   "source": [
    "vars(c)"
   ]
  },
  {
   "cell_type": "code",
   "execution_count": 19,
   "metadata": {
    "collapsed": false
   },
   "outputs": [
   ],
   "source": [
    "class TraceAccessX:\n",
    "    def __get__(self, inst, insttype):\n",
    "        print('get x')\n",
    "        return inst._x\n",
    "\n",
    "    def __set__(self, inst, val):\n",
    "        raise AttributeError('cannot set attribut')\n",
    "\n",
    "class C:\n",
    "    def __init__(self, const):\n",
    "        self._x = const\n",
    "    x = TraceAccessX()"
   ]
  },
  {
   "cell_type": "code",
   "execution_count": 20,
   "metadata": {
    "collapsed": false
   },
   "outputs": [
    {
     "data": {
      "text/plain": [
       "{'_x': 0}"
      ]
     },
     "execution_count": 20,
     "metadata": {
     },
     "output_type": "execute_result"
    }
   ],
   "source": [
    "c = C(0)\n",
    "vars(c)"
   ]
  },
  {
   "cell_type": "code",
   "execution_count": 21,
   "metadata": {
    "collapsed": false
   },
   "outputs": [
    {
     "ename": "AttributeError",
     "evalue": "cannot set attribut",
     "output_type": "error",
     "traceback": [
      "\u001b[0;31m---------------------------------------------------------------------------\u001b[0m",
      "\u001b[0;31mAttributeError\u001b[0m                            Traceback (most recent call last)",
      "\u001b[0;32m/tmp/ipykernel_431/1204206269.py\u001b[0m in \u001b[0;36m<module>\u001b[0;34m\u001b[0m\n\u001b[0;32m----> 1\u001b[0;31m \u001b[0mc\u001b[0m\u001b[0;34m.\u001b[0m\u001b[0mx\u001b[0m \u001b[0;34m=\u001b[0m \u001b[0;36m10\u001b[0m\u001b[0;34m\u001b[0m\u001b[0;34m\u001b[0m\u001b[0m\n\u001b[0m",
      "\u001b[0;32m/tmp/ipykernel_431/1916304889.py\u001b[0m in \u001b[0;36m__set__\u001b[0;34m(self, inst, val)\u001b[0m\n\u001b[1;32m      5\u001b[0m \u001b[0;34m\u001b[0m\u001b[0m\n\u001b[1;32m      6\u001b[0m     \u001b[0;32mdef\u001b[0m \u001b[0m__set__\u001b[0m\u001b[0;34m(\u001b[0m\u001b[0mself\u001b[0m\u001b[0;34m,\u001b[0m \u001b[0minst\u001b[0m\u001b[0;34m,\u001b[0m \u001b[0mval\u001b[0m\u001b[0;34m)\u001b[0m\u001b[0;34m:\u001b[0m\u001b[0;34m\u001b[0m\u001b[0;34m\u001b[0m\u001b[0m\n\u001b[0;32m----> 7\u001b[0;31m         \u001b[0;32mraise\u001b[0m \u001b[0mAttributeError\u001b[0m\u001b[0;34m(\u001b[0m\u001b[0;34m'cannot set attribut'\u001b[0m\u001b[0;34m)\u001b[0m\u001b[0;34m\u001b[0m\u001b[0;34m\u001b[0m\u001b[0m\n\u001b[0m\u001b[1;32m      8\u001b[0m \u001b[0;34m\u001b[0m\u001b[0m\n\u001b[1;32m      9\u001b[0m \u001b[0;32mclass\u001b[0m \u001b[0mC\u001b[0m\u001b[0;34m:\u001b[0m\u001b[0;34m\u001b[0m\u001b[0;34m\u001b[0m\u001b[0m\n",
      "\u001b[0;31mAttributeError\u001b[0m: cannot set attribut"
     ]
    }
   ],
   "source": [
    "c.x = 10"
   ]
  },
  {
   "cell_type": "code",
   "execution_count": 22,
   "metadata": {
    "collapsed": false
   },
   "outputs": [
    {
     "data": {
      "text/plain": [
       "{'_x': 0}"
      ]
     },
     "execution_count": 22,
     "metadata": {
     },
     "output_type": "execute_result"
    }
   ],
   "source": [
    "vars(c)"
   ]
  },
  {
   "cell_type": "code",
   "execution_count": 0,
   "metadata": {
    "collapsed": false
   },
   "outputs": [
   ],
   "source": [
   ]
  }
 ],
 "metadata": {
  "kernelspec": {
   "display_name": "Python 3 (system-wide)",
   "language": "python",
   "metadata": {
    "cocalc": {
     "description": "Python 3 programming language",
     "priority": 100,
     "url": "https://www.python.org/"
    }
   },
   "name": "python3",
   "resource_dir": "/ext/jupyter/kernels/python3"
  },
  "language_info": {
   "codemirror_mode": {
    "name": "ipython",
    "version": 3
   },
   "file_extension": ".py",
   "mimetype": "text/x-python",
   "name": "python",
   "nbconvert_exporter": "python",
   "pygments_lexer": "ipython3",
   "version": "3.8.10"
  }
 },
 "nbformat": 4,
 "nbformat_minor": 4
}