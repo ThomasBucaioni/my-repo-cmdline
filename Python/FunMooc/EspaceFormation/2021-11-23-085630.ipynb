{
 "cells": [
  {
   "cell_type": "markdown",
   "metadata": {
    "collapsed": false
   },
   "source": [
    "# Day 2 - morning"
   ]
  },
  {
   "cell_type": "code",
   "execution_count": 28,
   "metadata": {
    "collapsed": false
   },
   "outputs": [
    {
     "data": {
      "text/plain": [
       "3"
      ]
     },
     "execution_count": 28,
     "metadata": {
     },
     "output_type": "execute_result"
    }
   ],
   "source": [
    "def f(y):\n",
    "    def g(x):\n",
    "        z = 10\n",
    "        return x + y + z\n",
    "    return g\n",
    "a = f(3)\n",
    "a.__closure__[0].cell_contents"
   ]
  },
  {
   "cell_type": "code",
   "execution_count": 29,
   "metadata": {
    "collapsed": false
   },
   "outputs": [
    {
     "name": "stdout",
     "output_type": "stream",
     "text": [
      "<cell at 0x7f89ae10ffd0: int object at 0x955e80> 1\n"
     ]
    }
   ],
   "source": [
    "for i in range(len(a.__closure__)):\n",
    "    print(a.__closure__[i], len(a.__closure__))"
   ]
  },
  {
   "cell_type": "code",
   "execution_count": 32,
   "metadata": {
    "collapsed": false
   },
   "outputs": [
    {
     "data": {
      "text/plain": [
       "'wrapper'"
      ]
     },
     "execution_count": 32,
     "metadata": {
     },
     "output_type": "execute_result"
    }
   ],
   "source": [
    "def counter(f):\n",
    "    nb_appel = 0\n",
    "    def wrapper(*args, **dargs):\n",
    "        nonlocal nb_appel\n",
    "        nb_appel = nb_appel + 1\n",
    "        res = f(*args, **dargs)\n",
    "        print(f\"{f.__name__}: {nb_appel} fois\")\n",
    "        return res\n",
    "        \n",
    "    return wrapper\n",
    "\n",
    "@counter\n",
    "def f():\n",
    "    pass\n",
    "\n",
    "f.__name__"
   ]
  },
  {
   "cell_type": "code",
   "execution_count": 34,
   "metadata": {
    "collapsed": false
   },
   "outputs": [
    {
     "name": "stdout",
     "output_type": "stream",
     "text": [
      "f: 2 fois\n"
     ]
    }
   ],
   "source": [
    "f()"
   ]
  },
  {
   "cell_type": "code",
   "execution_count": 10,
   "metadata": {
    "collapsed": false
   },
   "outputs": [
    {
     "ename": "SyntaxError",
     "evalue": "no binding for nonlocal 'a' found (3282031970.py, line 3)",
     "output_type": "error",
     "traceback": [
      "\u001b[0;36m  File \u001b[0;32m\"/tmp/ipykernel_422/3282031970.py\"\u001b[0;36m, line \u001b[0;32m3\u001b[0m\n\u001b[0;31m    nonlocal a\u001b[0m\n\u001b[0m    ^\u001b[0m\n\u001b[0;31mSyntaxError\u001b[0m\u001b[0;31m:\u001b[0m no binding for nonlocal 'a' found\n"
     ]
    }
   ],
   "source": [
    "a =[1, 2]\n",
    "def add(x):\n",
    "    nonlocal a\n",
    "    a = a + [x]\n",
    "add(3)\n",
    "a"
   ]
  },
  {
   "cell_type": "code",
   "execution_count": 11,
   "metadata": {
    "collapsed": false
   },
   "outputs": [
   ],
   "source": [
    "def f():\n",
    "    pass\n",
    "\n",
    "def g():\n",
    "    pass\n",
    "f = counter(f)\n",
    "g = counter(g)"
   ]
  },
  {
   "cell_type": "code",
   "execution_count": 14,
   "metadata": {
    "collapsed": false
   },
   "outputs": [
    {
     "name": "stdout",
     "output_type": "stream",
     "text": [
      "f: 3 fois\n"
     ]
    }
   ],
   "source": [
    "f()"
   ]
  },
  {
   "cell_type": "code",
   "execution_count": 15,
   "metadata": {
    "collapsed": false
   },
   "outputs": [
    {
     "name": "stdout",
     "output_type": "stream",
     "text": [
      "g: 1 fois\n"
     ]
    }
   ],
   "source": [
    "g()"
   ]
  },
  {
   "cell_type": "code",
   "execution_count": 21,
   "metadata": {
    "collapsed": false
   },
   "outputs": [
    {
     "data": {
      "text/plain": [
       "'wrapper'"
      ]
     },
     "execution_count": 21,
     "metadata": {
     },
     "output_type": "execute_result"
    }
   ],
   "source": [
    "def counter(f):\n",
    "    def wrapper(*args, **dargs):\n",
    "        wrapper.nb_appel = wrapper.nb_appel + 1\n",
    "        res = f(*args, **dargs)\n",
    "        print(f\"{f.__name__}: {wrapper.nb_appel} fois\")\n",
    "        return res\n",
    "    wrapper.nb_appel = 0 \n",
    "    return wrapper\n",
    "\n",
    "@counter\n",
    "def f():\n",
    "    pass\n",
    "\n",
    "f.__name__"
   ]
  },
  {
   "cell_type": "code",
   "execution_count": 24,
   "metadata": {
    "collapsed": false
   },
   "outputs": [
    {
     "name": "stdout",
     "output_type": "stream",
     "text": [
      "f: 3 fois\n"
     ]
    }
   ],
   "source": [
    "f()"
   ]
  },
  {
   "cell_type": "code",
   "execution_count": 25,
   "metadata": {
    "collapsed": false
   },
   "outputs": [
    {
     "data": {
      "text/plain": [
       "<function __main__.counter.<locals>.wrapper(*args, **dargs)>"
      ]
     },
     "execution_count": 25,
     "metadata": {
     },
     "output_type": "execute_result"
    }
   ],
   "source": [
    "f"
   ]
  },
  {
   "cell_type": "code",
   "execution_count": 37,
   "metadata": {
    "collapsed": false
   },
   "outputs": [
    {
     "data": {
      "text/plain": [
       "15"
      ]
     },
     "execution_count": 37,
     "metadata": {
     },
     "output_type": "execute_result"
    }
   ],
   "source": [
    "def adder(x):\n",
    "    def add(y):\n",
    "        return x + y\n",
    "    return add\n",
    "add_5 = adder(5)\n",
    "add_5(10)"
   ]
  },
  {
   "cell_type": "code",
   "execution_count": 40,
   "metadata": {
    "collapsed": false
   },
   "outputs": [
    {
     "data": {
      "text/plain": [
       "15"
      ]
     },
     "execution_count": 40,
     "metadata": {
     },
     "output_type": "execute_result"
    }
   ],
   "source": [
    "class Adder:\n",
    "    def __init__(self, x):\n",
    "        self.x = x\n",
    "    def __call__(self, y):\n",
    "        return self.x + y\n",
    "add_5 = Adder(5)\n",
    "add_5(10)"
   ]
  },
  {
   "cell_type": "code",
   "execution_count": 41,
   "metadata": {
    "collapsed": false
   },
   "outputs": [
   ],
   "source": [
    "def f(x, y):\n",
    "    z = 10\n",
    "    def g():\n",
    "        nonlocal x, y, z\n",
    "        x = 100\n",
    "        y = 200\n",
    "        z = 300\n",
    "    return g"
   ]
  },
  {
   "cell_type": "code",
   "execution_count": 43,
   "metadata": {
    "collapsed": false
   },
   "outputs": [
    {
     "name": "stdout",
     "output_type": "stream",
     "text": [
      "in call\n"
     ]
    },
    {
     "data": {
      "text/plain": [
       "dans repr"
      ]
     },
     "execution_count": 43,
     "metadata": {
     },
     "output_type": "execute_result"
    }
   ],
   "source": [
    "class C:\n",
    "    def __call__(self):\n",
    "        print('in call')\n",
    "        \n",
    "    def __repr__(self):\n",
    "        return \"dans repr\"\n",
    "c = C()\n",
    "c()\n",
    "c"
   ]
  },
  {
   "cell_type": "code",
   "execution_count": 52,
   "metadata": {
    "collapsed": false
   },
   "outputs": [
    {
     "data": {
      "text/plain": [
       "('f', '\\n    Calcul de la fonction f\\n    ')"
      ]
     },
     "execution_count": 52,
     "metadata": {
     },
     "output_type": "execute_result"
    }
   ],
   "source": [
    "from functools import wraps\n",
    "\n",
    "def counter(f):\n",
    "    #@wraps(f)\n",
    "    def wrapper(*args, **dargs):\n",
    "        wrapper.nb_appel = wrapper.nb_appel + 1\n",
    "        res = f(*args, **dargs)\n",
    "        print(f\"{f.__name__}: {wrapper.nb_appel} fois\")\n",
    "        return res\n",
    "    wrapper.nb_appel = 0\n",
    "    wrapper = wraps(f)(wrapper) # équivalent à @\n",
    "    return wrapper\n",
    "\n",
    "@counter\n",
    "def f(a, b=3):\n",
    "    \"\"\"\n",
    "    Calcul de la fonction f\n",
    "    \"\"\"\n",
    "    return a*b\n",
    "\n",
    "f.__name__, f.__doc__"
   ]
  },
  {
   "cell_type": "code",
   "execution_count": 53,
   "metadata": {
    "collapsed": false
   },
   "outputs": [
    {
     "data": {
      "text/plain": [
       "\u001b[0;31mSignature:\u001b[0m \u001b[0mf\u001b[0m\u001b[0;34m(\u001b[0m\u001b[0ma\u001b[0m\u001b[0;34m,\u001b[0m \u001b[0mb\u001b[0m\u001b[0;34m=\u001b[0m\u001b[0;36m3\u001b[0m\u001b[0;34m)\u001b[0m\u001b[0;34m\u001b[0m\u001b[0;34m\u001b[0m\u001b[0m\n",
       "\u001b[0;31mDocstring:\u001b[0m Calcul de la fonction f\n",
       "\u001b[0;31mFile:\u001b[0m      /tmp/ipykernel_422/4027679621.py\n",
       "\u001b[0;31mType:\u001b[0m      function\n"
      ]
     },
     "execution_count": 53,
     "metadata": {
     },
     "output_type": "execute_result",
     "start": 0
    }
   ],
   "source": [
    "?f"
   ]
  },
  {
   "cell_type": "code",
   "execution_count": 55,
   "metadata": {
    "collapsed": false
   },
   "outputs": [
    {
     "data": {
      "text/plain": [
       "<__main__.NbAppel at 0x7f89acfdf190>"
      ]
     },
     "execution_count": 55,
     "metadata": {
     },
     "output_type": "execute_result"
    }
   ],
   "source": [
    "class NbAppel: # décorateur sous forme de classe\n",
    "    def __init__(self, f):\n",
    "        self.appel = 0\n",
    "        self.f = f\n",
    "    def __call__(self, *args):\n",
    "        self.appel = self.appel + 1\n",
    "        s = f'{self.f.__name__} : {self.appel} appels'\n",
    "        print(s)\n",
    "        print(self, args)\n",
    "        return self.f(*args)\n",
    "\n",
    "class C:\n",
    "    @NbAppel # problème : utiliser un décorateur sous forme de fonction\n",
    "    def ma_methode(self, x):\n",
    "        self.x = x\n",
    "        \n",
    "c = C()\n",
    "c.ma_methode"
   ]
  },
  {
   "cell_type": "code",
   "execution_count": 56,
   "metadata": {
    "collapsed": false
   },
   "outputs": [
    {
     "data": {
      "text/plain": [
       "<bound method C.ma_methode of <__main__.C object at 0x7f89acbc4b20>>"
      ]
     },
     "execution_count": 56,
     "metadata": {
     },
     "output_type": "execute_result"
    }
   ],
   "source": [
    "from functools import wraps\n",
    "\n",
    "def counter(f):\n",
    "    @wraps(f)\n",
    "    def wrapper(*args, **dargs):\n",
    "        wrapper.nb_appel = wrapper.nb_appel + 1\n",
    "        res = f(*args, **dargs)\n",
    "        print(f\"{f.__name__}: {wrapper.nb_appel} fois\")\n",
    "        return res\n",
    "    wrapper.nb_appel = 0 \n",
    "    #wrapper = wraps(f)(wrapper)\n",
    "    return wrapper\n",
    "\n",
    "\n",
    "class C:\n",
    "    @counter\n",
    "    def ma_methode(self, x):\n",
    "        self.x = x\n",
    "\n",
    "c = C()\n",
    "c.ma_methode\n"
   ]
  },
  {
   "cell_type": "markdown",
   "metadata": {
    "collapsed": false
   },
   "source": [
    "```\n",
    "@timer\n",
    "@nb_calls\n",
    "def f:\n",
    "    pass\n",
    "```\n",
    "est equivalent à \n",
    "```\n",
    "f=timer(nb_calls(f))\n",
    "```"
   ]
  },
  {
   "cell_type": "markdown",
   "metadata": {
    "collapsed": false
   },
   "source": [
    "## Passer des arguments à un décorateur"
   ]
  },
  {
   "cell_type": "code",
   "execution_count": 71,
   "metadata": {
    "collapsed": false
   },
   "outputs": [
    {
     "name": "stdout",
     "output_type": "stream",
     "text": [
      "--> f : 1 appels\n",
      "1 2\n",
      "Temps moyen d'exécution :  0.12647557258605957\n"
     ]
    }
   ],
   "source": [
    "import time\n",
    "\n",
    "def nb_appel(label=''):\n",
    "    temps_exe_total = 0\n",
    "    class NbAppel:\n",
    "        def __init__(self, f):\n",
    "            self.appel = 0\n",
    "            self.f = f\n",
    "        def __call__(self, *args):\n",
    "            nonlocal temps_exe_total\n",
    "            self.appel = self.appel + 1\n",
    "            s = (f'{label} {self.f.__name__} '\n",
    "                 f': {self.appel} appels')\n",
    "            print(s)\n",
    "            t = time.time()\n",
    "            res = self.f(*args)\n",
    "            temps_exe_total += time.time() - t\n",
    "            print(\"Temps moyen d'exécution : \", temps_exe_total / self.appel)\n",
    "            return res\n",
    "    return NbAppel\n",
    "\n",
    "# equiv f = nb_appels('-->')(f)\n",
    "# equiv f = NbAppel(f)\n",
    "@nb_appel(\"-->\") \n",
    "def f(a, b):\n",
    "    sum(range(10_000_000))\n",
    "    print(a, b)\n",
    "    \n",
    "f(1, 2)"
   ]
  },
  {
   "cell_type": "code",
   "execution_count": 75,
   "metadata": {
    "collapsed": false
   },
   "outputs": [
    {
     "name": "stdout",
     "output_type": "stream",
     "text": [
      "--> f : 5 appels\n",
      "1 2\n",
      "Temps moyen d'exécution :  0.16813154220581056\n"
     ]
    }
   ],
   "source": [
    "f(1, 2)"
   ]
  },
  {
   "cell_type": "code",
   "execution_count": 101,
   "metadata": {
    "collapsed": false
   },
   "outputs": [
    {
     "name": "stdout",
     "output_type": "stream",
     "text": [
      "----> <function f at 0x7f89acb38ca0> : 1 appels >----\n",
      "1 2\n",
      "Temps moyen d'exécution :  0.14335250854492188\n"
     ]
    }
   ],
   "source": [
    "import time\n",
    "\n",
    "def nb_appel(label=''):\n",
    "    temps_exe_total = 0\n",
    "    def nbappel(f):\n",
    "        appel = 0\n",
    "        def wrapper(*args, **dargs):\n",
    "            nonlocal temps_exe_total\n",
    "            nonlocal appel\n",
    "            appel = appel + 1\n",
    "            s = (f'{label} {f} '\n",
    "                 f': {appel} appels {label[::-1]}')\n",
    "            print(s)\n",
    "            t = time.time()\n",
    "            res = f(*args)\n",
    "            temps_exe_total += time.time() - t\n",
    "            print(\"Temps moyen d'exécution : \", temps_exe_total / appel)\n",
    "            return res\n",
    "        return wrapper\n",
    "    return nbappel\n",
    "\n",
    "# equiv f = nb_appels('-->')(f)\n",
    "# equiv f = nbappel(f)\n",
    "@nb_appel(\"---->\") \n",
    "def f(a, b):\n",
    "    sum(range(10_000_000))\n",
    "    print(a, b)\n",
    "    \n",
    "f(1, 2)"
   ]
  },
  {
   "cell_type": "code",
   "execution_count": 104,
   "metadata": {
    "collapsed": false
   },
   "outputs": [
    {
     "name": "stdout",
     "output_type": "stream",
     "text": [
      "----> <function f at 0x7f89acb38ca0> : 4 appels >----\n",
      "1 2\n",
      "Temps moyen d'exécution :  0.14376866817474365\n"
     ]
    }
   ],
   "source": [
    "f(1, 2)"
   ]
  },
  {
   "cell_type": "code",
   "execution_count": 81,
   "metadata": {
    "collapsed": false
   },
   "outputs": [
    {
     "name": "stdout",
     "output_type": "stream",
     "text": [
      "### f: 1 fois\n"
     ]
    }
   ],
   "source": [
    "def my_counter(tag): # ICI\n",
    "    def counter(f):\n",
    "        nb_appel = 0\n",
    "        def wrapper(*args, **dargs):\n",
    "            nonlocal nb_appel\n",
    "            nb_appel = nb_appel + 1\n",
    "            res = f(*args, **dargs)\n",
    "            print(f\"{tag} {f.__name__}: {nb_appel} fois\") #\n",
    "            return res\n",
    "\n",
    "        return wrapper\n",
    "    return counter #\n",
    "\n",
    "@my_counter('###')\n",
    "def f():\n",
    "    pass\n",
    "\n",
    "f()"
   ]
  },
  {
   "cell_type": "code",
   "execution_count": 83,
   "metadata": {
    "collapsed": false
   },
   "outputs": [
    {
     "name": "stdout",
     "output_type": "stream",
     "text": [
      "### f: 3 fois\n"
     ]
    }
   ],
   "source": [
    "f()"
   ]
  },
  {
   "cell_type": "code",
   "execution_count": 105,
   "metadata": {
    "collapsed": false
   },
   "outputs": [
   ],
   "source": [
    "def logfunc(func):\n",
    "    \"\"\"\n",
    "    Décorateur qui log l'activité d'une fonction.\n",
    "    \"\"\"\n",
    "    @wraps(func)\n",
    "    def wrapper(*args, **kwargs):\n",
    "        res = func(*args, **kwargs)\n",
    "        s = f\"\"\"\n",
    "The function *{func.__name__}* was called:\n",
    " - positional arguments: {args}\n",
    " - named arguments: {kwargs}\n",
    " - returned value: {res}\n",
    "\"\"\"\n",
    "        print(s)\n",
    "        return res\n",
    "    return wrapper\n",
    "\n",
    "def caller_allmethods(cls):\n",
    "    for name, obj in vars(cls).items():\n",
    "        if callable(obj):\n",
    "            setattr(cls, name, logfunc(obj))\n",
    "    return cls\n",
    "\n",
    "@caller_allmethods\n",
    "class C:\n",
    "    def f(self):\n",
    "        pass\n",
    "    def g(self):\n",
    "        pass\n",
    "    def h(self):\n",
    "        pass\n",
    "\n",
    "#C = caller_allmethods(C)"
   ]
  },
  {
   "cell_type": "code",
   "execution_count": 106,
   "metadata": {
    "collapsed": false
   },
   "outputs": [
    {
     "name": "stdout",
     "output_type": "stream",
     "text": [
      "name='f' obj=<function C.f at 0x7f89acb38820>\n",
      "name='g' obj=<function C.g at 0x7f89acb38dc0>\n",
      "name='h' obj=<function C.h at 0x7f89acb38d30>\n"
     ]
    }
   ],
   "source": [
    "for name, obj in vars(C).items():\n",
    "    if callable(obj):\n",
    "        print(f\"{name=} {obj=}\")\n",
    "        setattr(C, name, logfunc(obj))\n",
    "        #obj = logfunc(obj)"
   ]
  },
  {
   "cell_type": "code",
   "execution_count": 107,
   "metadata": {
    "collapsed": false
   },
   "outputs": [
    {
     "name": "stdout",
     "output_type": "stream",
     "text": [
      "\n",
      "The function *f* was called:\n",
      " - positional arguments: (<__main__.C object at 0x7f89acc03e80>,)\n",
      " - named arguments: {}\n",
      " - returned value: None\n",
      "\n",
      "\n",
      "The function *f* was called:\n",
      " - positional arguments: (<__main__.C object at 0x7f89acc03e80>,)\n",
      " - named arguments: {}\n",
      " - returned value: None\n",
      "\n",
      "\n",
      "The function *g* was called:\n",
      " - positional arguments: (<__main__.C object at 0x7f89acc03e80>,)\n",
      " - named arguments: {}\n",
      " - returned value: None\n",
      "\n",
      "\n",
      "The function *g* was called:\n",
      " - positional arguments: (<__main__.C object at 0x7f89acc03e80>,)\n",
      " - named arguments: {}\n",
      " - returned value: None\n",
      "\n",
      "\n",
      "The function *h* was called:\n",
      " - positional arguments: (<__main__.C object at 0x7f89acc03e80>,)\n",
      " - named arguments: {}\n",
      " - returned value: None\n",
      "\n",
      "\n",
      "The function *h* was called:\n",
      " - positional arguments: (<__main__.C object at 0x7f89acc03e80>,)\n",
      " - named arguments: {}\n",
      " - returned value: None\n",
      "\n"
     ]
    },
    {
     "data": {
      "text/plain": [
       "(None, None, None)"
      ]
     },
     "execution_count": 107,
     "metadata": {
     },
     "output_type": "execute_result"
    }
   ],
   "source": [
    "c = C()\n",
    "c.f(), c.g(), c.h()"
   ]
  },
  {
   "cell_type": "code",
   "execution_count": 0,
   "metadata": {
    "collapsed": false
   },
   "outputs": [
   ],
   "source": [
   ]
  }
 ],
 "metadata": {
  "kernelspec": {
   "display_name": "Python 3 (system-wide)",
   "language": "python",
   "metadata": {
    "cocalc": {
     "description": "Python 3 programming language",
     "priority": 100,
     "url": "https://www.python.org/"
    }
   },
   "name": "python3",
   "resource_dir": "/ext/jupyter/kernels/python3"
  },
  "language_info": {
   "codemirror_mode": {
    "name": "ipython",
    "version": 3
   },
   "file_extension": ".py",
   "mimetype": "text/x-python",
   "name": "python",
   "nbconvert_exporter": "python",
   "pygments_lexer": "ipython3",
   "version": "3.8.10"
  }
 },
 "nbformat": 4,
 "nbformat_minor": 4
}