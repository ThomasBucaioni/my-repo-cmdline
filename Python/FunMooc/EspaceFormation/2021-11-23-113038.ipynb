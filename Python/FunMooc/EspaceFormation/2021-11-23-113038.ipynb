{
 "cells": [
  {
   "cell_type": "markdown",
   "metadata": {
    "collapsed": false
   },
   "source": [
    "# Day 2 - morning2 : Itérateurs"
   ]
  },
  {
   "cell_type": "code",
   "execution_count": 3,
   "metadata": {
    "collapsed": false
   },
   "outputs": [
   ],
   "source": [
    "def f(a):\n",
    "    yield a**2\n",
    "    yield a**3\n",
    "    yield a**4"
   ]
  },
  {
   "cell_type": "code",
   "execution_count": 4,
   "metadata": {
    "collapsed": false
   },
   "outputs": [
    {
     "data": {
      "text/plain": [
       "<function __main__.f(a)>"
      ]
     },
     "execution_count": 4,
     "metadata": {
     },
     "output_type": "execute_result"
    }
   ],
   "source": [
    "f"
   ]
  },
  {
   "cell_type": "code",
   "execution_count": 5,
   "metadata": {
    "collapsed": false
   },
   "outputs": [
   ],
   "source": [
    "g = f(3)"
   ]
  },
  {
   "cell_type": "code",
   "execution_count": 6,
   "metadata": {
    "collapsed": false
   },
   "outputs": [
    {
     "data": {
      "text/plain": [
       "True"
      ]
     },
     "execution_count": 6,
     "metadata": {
     },
     "output_type": "execute_result"
    }
   ],
   "source": [
    "g is iter(g)"
   ]
  },
  {
   "cell_type": "code",
   "execution_count": 7,
   "metadata": {
    "collapsed": false
   },
   "outputs": [
    {
     "data": {
      "text/plain": [
       "9"
      ]
     },
     "execution_count": 7,
     "metadata": {
     },
     "output_type": "execute_result"
    }
   ],
   "source": [
    "next(g)"
   ]
  },
  {
   "cell_type": "code",
   "execution_count": 8,
   "metadata": {
    "collapsed": false
   },
   "outputs": [
    {
     "name": "stdout",
     "output_type": "stream",
     "text": [
      "16\n",
      "64\n",
      "256\n"
     ]
    }
   ],
   "source": [
    "for i in f(4):\n",
    "    print(i)"
   ]
  },
  {
   "cell_type": "code",
   "execution_count": 9,
   "metadata": {
    "collapsed": false
   },
   "outputs": [
    {
     "data": {
      "text/plain": [
       "775"
      ]
     },
     "execution_count": 9,
     "metadata": {
     },
     "output_type": "execute_result"
    }
   ],
   "source": [
    "sum(f(5))"
   ]
  },
  {
   "cell_type": "code",
   "execution_count": 10,
   "metadata": {
    "collapsed": false
   },
   "outputs": [
   ],
   "source": [
    "def f(a):\n",
    "    yield a**2\n",
    "    yield a**3\n",
    "    return 'return at 3'\n",
    "    yield a**4"
   ]
  },
  {
   "cell_type": "code",
   "execution_count": 11,
   "metadata": {
    "collapsed": false
   },
   "outputs": [
    {
     "data": {
      "text/plain": [
       "150"
      ]
     },
     "execution_count": 11,
     "metadata": {
     },
     "output_type": "execute_result"
    }
   ],
   "source": [
    "sum(f(5))"
   ]
  },
  {
   "cell_type": "code",
   "execution_count": 12,
   "metadata": {
    "collapsed": false
   },
   "outputs": [
   ],
   "source": [
    "g = f(3)"
   ]
  },
  {
   "cell_type": "code",
   "execution_count": 13,
   "metadata": {
    "collapsed": false
   },
   "outputs": [
    {
     "data": {
      "text/plain": [
       "9"
      ]
     },
     "execution_count": 13,
     "metadata": {
     },
     "output_type": "execute_result"
    }
   ],
   "source": [
    "next(g)"
   ]
  },
  {
   "cell_type": "code",
   "execution_count": 14,
   "metadata": {
    "collapsed": false
   },
   "outputs": [
   ],
   "source": [
    "def f(a, x):\n",
    "    yield a**2\n",
    "    yield a**3\n",
    "    if x < 10:\n",
    "        raise StopIteration() # NON\n",
    "    yield a**4\n",
    "g = f(5, 1)"
   ]
  },
  {
   "cell_type": "code",
   "execution_count": 15,
   "metadata": {
    "collapsed": false
   },
   "outputs": [
    {
     "data": {
      "text/plain": [
       "25"
      ]
     },
     "execution_count": 15,
     "metadata": {
     },
     "output_type": "execute_result"
    }
   ],
   "source": [
    "next(g)"
   ]
  },
  {
   "cell_type": "code",
   "execution_count": 16,
   "metadata": {
    "collapsed": false
   },
   "outputs": [
    {
     "data": {
      "text/plain": [
       "['formation', 'sur', 'python']"
      ]
     },
     "execution_count": 16,
     "metadata": {
     },
     "output_type": "execute_result"
    }
   ],
   "source": [
    "class Phrase:\n",
    "    def __init__(self, phrase):\n",
    "        self.phrase = phrase\n",
    "        self.mots = phrase.split()\n",
    "        \n",
    "    def __len__(self):\n",
    "        return len(self.mots)\n",
    "    \n",
    "    def __repr__(self):\n",
    "        return self.phrase\n",
    "p = Phrase('formation sur python')\n",
    "p.mots"
   ]
  },
  {
   "cell_type": "code",
   "execution_count": 17,
   "metadata": {
    "collapsed": false
   },
   "outputs": [
    {
     "data": {
      "text/plain": [
       "3"
      ]
     },
     "execution_count": 17,
     "metadata": {
     },
     "output_type": "execute_result"
    }
   ],
   "source": [
    "len(p)"
   ]
  },
  {
   "cell_type": "code",
   "execution_count": 18,
   "metadata": {
    "collapsed": false
   },
   "outputs": [
    {
     "data": {
      "text/plain": [
       "formation sur python"
      ]
     },
     "execution_count": 18,
     "metadata": {
     },
     "output_type": "execute_result"
    }
   ],
   "source": [
    "p"
   ]
  },
  {
   "cell_type": "code",
   "execution_count": 19,
   "metadata": {
    "collapsed": false
   },
   "outputs": [
    {
     "name": "stdout",
     "output_type": "stream",
     "text": [
      "('0: FORMATION', 0, <built-in method upper of str object at 0x7f6ee61adb70>)\n",
      "('1: SUR', 1, <built-in method upper of str object at 0x7f6ee61ad930>)\n",
      "('2: PYTHON', 2, <built-in method upper of str object at 0x7f6ee61ad9b0>)\n"
     ]
    }
   ],
   "source": [
    "class Phrase:\n",
    "    def __init__(self, phrase):\n",
    "        self.phrase = phrase\n",
    "        self.mots = phrase.split()\n",
    "        \n",
    "    def __len__(self):\n",
    "        return len(self.mots)\n",
    "    \n",
    "    def __repr__(self):\n",
    "        return self.phrase\n",
    "    \n",
    "    def __iter__(self):\n",
    "        for cpt, m in enumerate(self.mots):\n",
    "            yield (f\"{cpt}: {m.upper()}\", cpt, m.upper)\n",
    "            \n",
    "p = Phrase('formation sur python')\n",
    "p.mots            \n",
    "for m in p:\n",
    "    print(m)"
   ]
  },
  {
   "cell_type": "code",
   "execution_count": 20,
   "metadata": {
    "collapsed": false
   },
   "outputs": [
    {
     "ename": "ValueError",
     "evalue": "dictionary update sequence element #0 has length 3; 2 is required",
     "output_type": "error",
     "traceback": [
      "\u001b[0;31m---------------------------------------------------------------------------\u001b[0m",
      "\u001b[0;31mValueError\u001b[0m                                Traceback (most recent call last)",
      "\u001b[0;32m/tmp/ipykernel_422/1237948142.py\u001b[0m in \u001b[0;36m<module>\u001b[0;34m\u001b[0m\n\u001b[0;32m----> 1\u001b[0;31m \u001b[0mdict\u001b[0m\u001b[0;34m(\u001b[0m\u001b[0mp\u001b[0m\u001b[0;34m)\u001b[0m\u001b[0;34m\u001b[0m\u001b[0;34m\u001b[0m\u001b[0m\n\u001b[0m",
      "\u001b[0;31mValueError\u001b[0m: dictionary update sequence element #0 has length 3; 2 is required"
     ]
    }
   ],
   "source": [
    "dict(p)"
   ]
  },
  {
   "cell_type": "code",
   "execution_count": 0,
   "metadata": {
    "collapsed": false
   },
   "outputs": [
   ],
   "source": [
    "noms = [' alice  ', 'Alice', 'BOB', 'bill   ', 'bob  ', 'EVE']"
   ]
  },
  {
   "cell_type": "code",
   "execution_count": 0,
   "metadata": {
    "collapsed": false
   },
   "outputs": [
   ],
   "source": [
    "class Normalize():\n",
    "    \n",
    "    def __init__(self, l):\n",
    "        self.l = l.copy() # shallow copy built-in\n",
    "        self.l.reverse()\n",
    "    \n",
    "    \n",
    "    def __iter__(self):\n",
    "        #while [ noms ]:\n",
    "            #yield noms.pop().lower()\n",
    "        for m in self.l:\n",
    "            yield m\n",
    "            \n",
    "        \n",
    "        \n",
    "    def __len__(self):\n",
    "        return 1\n",
    "        \n",
    "    \n",
    "    def __str__(self):\n",
    "        return 'ok'\n",
    "        \n",
    "        \n",
    "tonorm = Normalize(noms)"
   ]
  },
  {
   "cell_type": "code",
   "execution_count": 0,
   "metadata": {
    "collapsed": false
   },
   "outputs": [
   ],
   "source": [
    "print(tonorm, len(tonorm))"
   ]
  },
  {
   "cell_type": "code",
   "execution_count": 0,
   "metadata": {
    "collapsed": false
   },
   "outputs": [
   ],
   "source": [
    "for n in tonorm:\n",
    "    print(n)"
   ]
  },
  {
   "cell_type": "code",
   "execution_count": 0,
   "metadata": {
    "collapsed": false
   },
   "outputs": [
   ],
   "source": [
    "noms"
   ]
  },
  {
   "cell_type": "code",
   "execution_count": 0,
   "metadata": {
    "collapsed": false
   },
   "outputs": [
   ],
   "source": [
    "!ls"
   ]
  },
  {
   "cell_type": "code",
   "execution_count": 21,
   "metadata": {
    "collapsed": false
   },
   "outputs": [
   ],
   "source": [
    "def cat(file_name):\n",
    "    with open(file_name, 'r') as f:\n",
    "        for line in f:\n",
    "            yield line"
   ]
  },
  {
   "cell_type": "code",
   "execution_count": 22,
   "metadata": {
    "collapsed": false
   },
   "outputs": [
   ],
   "source": [
    "g = cat('mon_notebook.ipynb')"
   ]
  },
  {
   "cell_type": "code",
   "execution_count": 23,
   "metadata": {
    "collapsed": false
   },
   "outputs": [
    {
     "data": {
      "text/plain": [
       "1041"
      ]
     },
     "execution_count": 23,
     "metadata": {
     },
     "output_type": "execute_result"
    }
   ],
   "source": [
    "len(list(g))"
   ]
  },
  {
   "cell_type": "code",
   "execution_count": 34,
   "metadata": {
    "collapsed": false
   },
   "outputs": [
    {
     "name": "stdout",
     "output_type": "stream",
     "text": [
      "def myf(x):\\n\",\n",
      "def __init__(self):\\n\",\n",
      "def __init__(self, poid=3, couleur='gris', age=1):\\n\",\n",
      "def miaou(self):\\n\",\n",
      "def __str__(self):\\n\",\n",
      "def caresse(self):\\n\",\n",
      "def caresse(self):\\n\",\n",
      "def __init__(self):\\n\",\n",
      "def nb_chats():\\n\",\n",
      "def __init__(self):\\n\",\n",
      "def nb_sacre():\\n\",\n",
      "def test(cls):\\n\",\n",
      "def __init__(cls):\\n\",\n",
      "def nb_chats(cls):\\n\",\n",
      "def __init__(self):\\n\",\n",
      "def nb_sacre(cls):\\n\",\n",
      "defined\\n\"\n",
      "defined\\n\"\n",
      "defined\\n\"\n",
      "def __init__(self):\\n\",\n",
      "def count(cls):\\n\",\n",
      "def nb_chats(cls):\\n\",\n",
      "def __del__(cls): # appelé uniquement par le garbage collector\\n\",\n",
      "def __init__(self, day=0, month=0, year=0):\\n\",\n",
      "def from_string(cls, date_as_string):\\n\",\n",
      "def is_date_valid(date_as_string):\\n\",\n",
      "def __init__(self, day=0, month=0, year=0):\\n\",\n",
      "def __str__(self):\\n\",\n",
      "def __repr__(self):\\n\",\n",
      "def from_string(s):\\n\",\n"
     ]
    }
   ],
   "source": [
    "def cat(file_name):\n",
    "    with open(file_name, 'r') as f:\n",
    "        for line in f:\n",
    "            yield line\n",
    "\n",
    "\n",
    "import re\n",
    "\n",
    "\n",
    "def start_grep(g, start):\n",
    "    for i in list(g):\n",
    "        m = re.search(start + '.*', i)\n",
    "        if m:\n",
    "            print(m.group(0))\n",
    "\n",
    "\n",
    "g = cat('mon_notebook.ipynb')\n",
    "start_grep(g, 'def')"
   ]
  },
  {
   "cell_type": "code",
   "execution_count": 43,
   "metadata": {
    "collapsed": false
   },
   "outputs": [
    {
     "data": {
      "text/plain": [
       "[0, 1, 4, 0.0, 1.0, 1.4142135623730951]"
      ]
     },
     "execution_count": 43,
     "metadata": {
     },
     "output_type": "execute_result"
    }
   ],
   "source": [
    "import math\n",
    "def gen_etrange(n):\n",
    "    for i in range(n):\n",
    "        yield i**2\n",
    "        \n",
    "    for i in range(n):\n",
    "        yield math.sqrt(i)\n",
    "        \n",
    "list(gen_etrange(3))"
   ]
  },
  {
   "cell_type": "code",
   "execution_count": 44,
   "metadata": {
    "collapsed": false
   },
   "outputs": [
    {
     "name": "stdout",
     "output_type": "stream",
     "text": [
      "[0.0, 1.0, 1.4142135623730951] [0, 1, 4]\n"
     ]
    }
   ],
   "source": [
    "import math\n",
    "def gen_carre(n):\n",
    "    for i in range(n):\n",
    "        yield i**2\n",
    "    \n",
    "def gen_sqrt(n):\n",
    "    for i in range(n):\n",
    "        yield math.sqrt(i)\n",
    "    \n",
    "print(list(gen_sqrt(3)), list(gen_carre(3)))"
   ]
  },
  {
   "cell_type": "code",
   "execution_count": 45,
   "metadata": {
    "collapsed": false
   },
   "outputs": [
    {
     "data": {
      "text/plain": [
       "[0, 1, 4, 0.0, 1.0, 1.4142135623730951]"
      ]
     },
     "execution_count": 45,
     "metadata": {
     },
     "output_type": "execute_result"
    }
   ],
   "source": [
    "def gen_etrange_2(n):\n",
    "    for i in gen_carre(n):\n",
    "        yield i\n",
    "    for i in gen_sqrt(n):\n",
    "        yield i\n",
    "    \n",
    "list(gen_etrange_2(3))"
   ]
  },
  {
   "cell_type": "code",
   "execution_count": 51,
   "metadata": {
    "collapsed": false
   },
   "outputs": [
    {
     "data": {
      "text/plain": [
       "[0,\n",
       " 1,\n",
       " 4,\n",
       " 9,\n",
       " 16,\n",
       " 'ok',\n",
       " 0.0,\n",
       " 1.0,\n",
       " 1.4142135623730951,\n",
       " 1.7320508075688772,\n",
       " 2.0,\n",
       " 'f',\n",
       " 'i',\n",
       " 'n']"
      ]
     },
     "execution_count": 51,
     "metadata": {
     },
     "output_type": "execute_result"
    }
   ],
   "source": [
    "def gen_etrange_3(n):\n",
    "    yield from gen_carre(n)\n",
    "    yield 'ok'\n",
    "    yield from gen_sqrt(n)\n",
    "    for i in \"fin\":\n",
    "        yield i\n",
    "\n",
    "\n",
    "list(gen_etrange_3(5))"
   ]
  },
  {
   "cell_type": "code",
   "execution_count": 53,
   "metadata": {
    "collapsed": false
   },
   "outputs": [
    {
     "data": {
      "text/plain": [
       "['2021-11-23-122509.ipynb',\n",
       " 'mon_notebook.ipynb',\n",
       " 'ICI___2021-11-23-085630.ipynb',\n",
       " '2021-11-22-153147.ipynb',\n",
       " 'terminal.term',\n",
       " '2021-11-23-113038.ipynb',\n",
       " 'PythonAvance.pdf']"
      ]
     },
     "execution_count": 53,
     "metadata": {
     },
     "output_type": "execute_result"
    }
   ],
   "source": [
    "import glob\n",
    "glob.glob('*')"
   ]
  },
  {
   "cell_type": "code",
   "execution_count": 57,
   "metadata": {
    "collapsed": false
   },
   "outputs": [
   ],
   "source": [
    "import os\n",
    "s = os.scandir('.')\n",
    "a = list(s)"
   ]
  },
  {
   "cell_type": "code",
   "execution_count": 58,
   "metadata": {
    "collapsed": false
   },
   "outputs": [
    {
     "data": {
      "text/plain": [
       "<DirEntry '.mon_notebook.ipynb.sage-jupyter2'>"
      ]
     },
     "execution_count": 58,
     "metadata": {
     },
     "output_type": "execute_result"
    }
   ],
   "source": [
    "a[0]"
   ]
  },
  {
   "cell_type": "code",
   "execution_count": 59,
   "metadata": {
    "collapsed": false
   },
   "outputs": [
    {
     "data": {
      "text/plain": [
       "['__class__',\n",
       " '__delattr__',\n",
       " '__dir__',\n",
       " '__doc__',\n",
       " '__eq__',\n",
       " '__format__',\n",
       " '__fspath__',\n",
       " '__ge__',\n",
       " '__getattribute__',\n",
       " '__gt__',\n",
       " '__hash__',\n",
       " '__init__',\n",
       " '__init_subclass__',\n",
       " '__le__',\n",
       " '__lt__',\n",
       " '__ne__',\n",
       " '__new__',\n",
       " '__reduce__',\n",
       " '__reduce_ex__',\n",
       " '__repr__',\n",
       " '__setattr__',\n",
       " '__sizeof__',\n",
       " '__str__',\n",
       " '__subclasshook__',\n",
       " 'inode',\n",
       " 'is_dir',\n",
       " 'is_file',\n",
       " 'is_symlink',\n",
       " 'name',\n",
       " 'path',\n",
       " 'stat']"
      ]
     },
     "execution_count": 59,
     "metadata": {
     },
     "output_type": "execute_result"
    }
   ],
   "source": [
    "dir(a[0])"
   ]
  },
  {
   "cell_type": "code",
   "execution_count": 0,
   "metadata": {
    "collapsed": false
   },
   "outputs": [
   ],
   "source": [
   ]
  }
 ],
 "metadata": {
  "kernelspec": {
   "display_name": "Python 3 (system-wide)",
   "language": "python",
   "metadata": {
    "cocalc": {
     "description": "Python 3 programming language",
     "priority": 100,
     "url": "https://www.python.org/"
    }
   },
   "name": "python3",
   "resource_dir": "/ext/jupyter/kernels/python3"
  },
  "language_info": {
   "codemirror_mode": {
    "name": "ipython",
    "version": 3
   },
   "file_extension": ".py",
   "mimetype": "text/x-python",
   "name": "python",
   "nbconvert_exporter": "python",
   "pygments_lexer": "ipython3",
   "version": "3.8.10"
  }
 },
 "nbformat": 4,
 "nbformat_minor": 4
}